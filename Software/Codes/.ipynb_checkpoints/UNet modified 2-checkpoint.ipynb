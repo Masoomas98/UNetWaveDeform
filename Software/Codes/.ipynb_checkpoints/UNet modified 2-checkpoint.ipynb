{
 "cells": [
  {
   "cell_type": "markdown",
   "id": "a5acfa54",
   "metadata": {},
   "source": [
    "# Lecture III: Recurrent Neural Network\n",
    "This homework aims to help you understand Recurrent Neural Network by building a RNN classifier on Japanese Vowels from different male speakers. \n",
    "\n",
    "As usual, we will first import some useful modules:"
   ]
  },
  {
   "cell_type": "code",
   "execution_count": 1,
   "id": "1de60d1f",
   "metadata": {},
   "outputs": [],
   "source": [
    "# pylint: disable=E1101,R,C\n",
    "import numpy as np\n",
    "import os\n",
    "import argparse\n",
    "import time\n",
    "import math\n",
    "import random\n",
    "import torch\n",
    "import torch.nn as nn\n",
    "import torch.optim as optim\n",
    "from torch.nn.parameter import Parameter\n",
    "from torch.nn import init\n",
    "import torch.nn.functional as F\n",
    "import torch.utils.data as data_utils\n",
    "from torch.utils.data import Dataset, DataLoader, SubsetRandomSampler\n",
    "from torch.autograd import Variable\n",
    "import gzip\n",
    "import pickle\n",
    "from scipy import sparse\n",
    "import matplotlib\n",
    "import matplotlib.pyplot as plt\n",
    "from tqdm import tqdm\n",
    "from torch.cuda.amp import autocast \n",
    "torch.set_default_tensor_type(torch.FloatTensor)"
   ]
  },
  {
   "cell_type": "markdown",
   "id": "b666b492",
   "metadata": {},
   "source": [
    "The Japanese Vowel dataset can be found [here](https://archive.ics.uci.edu/ml/datasets/Japanese+Vowels). For a detailed description, please look at this website. First, we will download the dataset:"
   ]
  },
  {
   "cell_type": "code",
   "execution_count": null,
   "id": "edcbe3e3",
   "metadata": {
    "scrolled": true,
    "tags": []
   },
   "outputs": [],
   "source": []
  },
  {
   "cell_type": "markdown",
   "id": "e491218a",
   "metadata": {},
   "source": [
    "\n",
    "\n",
    "## Part I: Dataset\n",
    "\n",
    "First, we will need to prepare the dataset using `Dataset()` class. Since in last home work, I have gone through the detail of this class, I will skip most of the technical details."
   ]
  },
  {
   "cell_type": "code",
   "execution_count": 2,
   "id": "194f86c8",
   "metadata": {},
   "outputs": [
    {
     "data": {
      "image/png": "[encoded data removed]",
      "text/plain": [
       "<Figure size 500x400 with 1 Axes>"
      ]
     },
     "metadata": {},
     "output_type": "display_data"
    },
    {
     "data": {
      "text/plain": [
       "<__main__.JapaneseVowelDataset at 0x107c85ff0>"
      ]
     },
     "execution_count": 2,
     "metadata": {},
     "output_type": "execute_result"
    }
   ],
   "source": [
    "class JapaneseVowelDataset(Dataset):\n",
    "\n",
    "    def __init__(self,plot=True):\n",
    "        \n",
    "        # Load the waveforms with the truth\n",
    "        \n",
    "        waveforms = np.load('Data/data.npy')\n",
    "        times = np.load('Data/labels.npy')\n",
    "        \n",
    "        waveforms_train =[] \n",
    "        waveforms_test =  []\n",
    "        times_train =[] \n",
    "        times_test = []\n",
    "        \n",
    "        for i in range(len(waveforms)):\n",
    "            if i < int(0.7*len(waveforms)):\n",
    "                waveforms_train.append(waveforms[i])\n",
    "                times_train.append(times[i])\n",
    "            else:\n",
    "                waveforms_test.append(waveforms[i])\n",
    "                times_test.append(times[i])\n",
    "                \n",
    "        self.train_test_split = len(waveforms_train)\n",
    "\n",
    "        self.data = waveforms_train+waveforms_test\n",
    "        self.labels = times_train+times_test\n",
    "        self.size = len(waveforms_train)+len(waveforms_test)\n",
    "        \n",
    "\n",
    "        \n",
    "        if plot:\n",
    "            self.plot_data()\n",
    "        \n",
    "    def __len__(self):\n",
    "        '''\n",
    "        This function returns the size of overall dataset\n",
    "        '''\n",
    "        return self.size\n",
    "        \n",
    "    def __getitem__(self, idx):\n",
    "        return self.data[idx].astype(float), self.labels[idx].astype(float)\n",
    "\n",
    "    \n",
    "    \n",
    "    def get_train_test_split(self):\n",
    "        '''\n",
    "        This function get the train test split size of the dataset\n",
    "        '''\n",
    "        return self.train_test_split\n",
    "    \n",
    "    \n",
    "    \n",
    "    def plot_data(self):\n",
    "    \n",
    "        plt.figure(figsize=(5,4))\n",
    "        num = 1\n",
    "        sample_index = np.random.randint(low=0, high=self.__len__(), size=num)\n",
    "        voices = []\n",
    "        for i in range(num):\n",
    "            voice, label = self.__getitem__(sample_index[i])\n",
    "            #print(label)\n",
    "            y2 = [j[0] for j in label]\n",
    "            y = [j[0] for j in voice]\n",
    "            plt.plot(np.arange(len(y)), y)\n",
    "            plt.plot(np.arange(len(y2)), y2)\n",
    "            \n",
    "        plt.xlabel(\"Time Index\")\n",
    "        plt.ylabel(\"Voltage\")\n",
    "        plt.show()\n",
    "        \n",
    "JapaneseVowelDataset()"
   ]
  },
  {
   "cell_type": "markdown",
   "id": "782864da",
   "metadata": {},
   "source": [
    "## Part II: Recurrent Neural Network\n",
    "In this part, we will buid an LSTM based recurrent neural network model to analyze the input LPC spectrum. Since this is the second time we build a NN, I will leave most of the work to you. Some useful resources include:\n",
    "- [nn.LSTM](https://pytorch.org/docs/master/generated/torch.nn.LSTM.html#lstm)\n",
    "- [nn.Linear](https://pytorch.org/docs/master/generated/torch.nn.Linear.html?highlight=linear#torch.nn.Linear)\n",
    "- [nn.LeakyReLU](https://pytorch.org/docs/master/generated/torch.nn.LeakyReLU.html?highlight=leakyrelu#torch.nn.LeakyReLU)\n",
    "- [nn.Sequential](https://pytorch.org/docs/master/generated/torch.nn.Sequential.html?highlight=sequential#torch.nn.Sequential)\n",
    "\n",
    "Some useful tips for building the recurrent neural network:\n",
    "- Read [nn.LSTM](https://pytorch.org/docs/master/generated/torch.nn.LSTM.html#lstm) carefully, make sure you understand the input and output shape of the LSTM layer. The [nn.LSTM](https://pytorch.org/docs/master/generated/torch.nn.LSTM.html#lstm) layer outputs `output, (h_n, c_n)`:\n",
    "    -  `output` has a shape of `(Seq_len,Batch_size,num_direction*hidden_size)`, it contains all intermediate hidden state outputs of the last layer. Note that there is a `batch_first` flag in LSTM input which may change the output shape to `(Batch_size,Seq_len,num_direction*hidden_size)`. If you want to select only the last hidden state, you shoud simply index the `Seq_len` dimension.\n",
    "    -  `(h_n, c_n)` contains the last hidden state outputs of each layers\n",
    "- Remember that you want to select only the the **last hidden state output**. You can either extract it from `output` or `h_n`.\n",
    "- Then you will feed the **last hidden state output** into `self.fc_classifier`. You will need to adjust the `hidden_size` of LSTM output and the input size of first fully connected layer in `self.fc_classifier` to match\n",
    "- Make sure the output of RNN model has the shape of [BATCHSIZE,9], since we have 9 speakers in the dataset we'd like to classify into"
   ]
  },
  {
   "cell_type": "code",
   "execution_count": 3,
   "id": "adab9788",
   "metadata": {},
   "outputs": [],
   "source": [
    "'''\n",
    "This script contains the PositionalUNet network along with 3 candidate discriminators:\n",
    "* RNN+Attention discriminator\n",
    "* CNN+PositionalEncoding Discriminator\n",
    "* Fully Connected Discriminators\n",
    "we have tested all 3 discriminators, turns out that the RNN+Attention works the best\n",
    "'''\n",
    "\n",
    "import torch\n",
    "import torch.nn as nn\n",
    "import torch.optim as optim\n",
    "from torch.nn.parameter import Parameter\n",
    "from torch.nn import init\n",
    "import torch.nn.functional as F\n",
    "import math\n",
    "\n",
    "\n",
    "\n",
    "class DoubleConv(nn.Module):\n",
    "\n",
    "    def __init__(self, in_channels, out_channels, mid_channels=None):\n",
    "        super().__init__()\n",
    "        if not mid_channels:\n",
    "            mid_channels = out_channels\n",
    "        self.double_conv = nn.Sequential(\n",
    "            nn.Conv1d(in_channels, mid_channels, kernel_size=11, padding=5,bias=False),\n",
    "            nn.BatchNorm1d(mid_channels),\n",
    "            nn.LeakyReLU(inplace=True),\n",
    "            nn.Conv1d(mid_channels, out_channels, kernel_size=7, padding=3,bias=False),\n",
    "            nn.BatchNorm1d(out_channels),\n",
    "            nn.LeakyReLU(inplace=True)\n",
    "        )\n",
    "\n",
    "    def forward(self, x):\n",
    "        return self.double_conv(x)\n",
    "\n",
    "\n",
    "class Down(nn.Module):\n",
    "\n",
    "    def __init__(self, in_channels, out_channels, pool=True):\n",
    "        super().__init__()\n",
    "        self.pool = pool\n",
    "        self.pool_layer = nn.MaxPool1d(2)\n",
    "        self.maxpool_conv = nn.Sequential(\n",
    "            DoubleConv(in_channels, out_channels)\n",
    "        )\n",
    "\n",
    "    def forward(self, x):\n",
    "        if self.pool:\n",
    "            x = self.pool_layer(x)\n",
    "        return self.maxpool_conv(x)\n",
    "\n",
    "\n",
    "class Up(nn.Module):\n",
    "\n",
    "    def __init__(self, in_channels, out_channels, bilinear=True):\n",
    "        super().__init__()\n",
    "\n",
    "        # if bilinear, use the normal convolutions to reduce the number of channels\n",
    "        if bilinear:\n",
    "            self.up = nn.Upsample(scale_factor=2, mode='linear', align_corners=True)\n",
    "            self.conv = DoubleConv(in_channels, out_channels, in_channels // 2)\n",
    "        else:\n",
    "            self.up = nn.ConvTranspose1d(in_channels, in_channels // 2, kernel_size=2, stride=2)\n",
    "            self.conv = DoubleConv(in_channels, out_channels)\n",
    "\n",
    "    def forward(self, x1, x2):\n",
    "        x1 = self.up(x1)\n",
    "        # input is CHW\n",
    "        diffY = x2.size()[2] - x1.size()[2]\n",
    "\n",
    "        x1 = F.pad(x1, [diffY // 2, diffY - diffY // 2])\n",
    "        # if you have padding issues, see\n",
    "        x = torch.cat([x2, x1], dim=1)\n",
    "        return self.conv(x)\n",
    "\n",
    "\n",
    "class OutConv(nn.Module):\n",
    "    def __init__(self, in_channels, out_channels):\n",
    "        super(OutConv, self).__init__()\n",
    "        mid_channels = int(in_channels + out_channels)//2\n",
    "        self.conv = nn.Sequential(\n",
    "            torch.nn.Conv1d(in_channels, mid_channels, kernel_size=1),\n",
    "            torch.nn.LeakyReLU(),\n",
    "            torch.nn.Conv1d(mid_channels, out_channels, kernel_size=1),\n",
    "             )\n",
    "    # @torchsnooper.snoop()\n",
    "    def forward(self, x):\n",
    "        return self.conv(x)"
   ]
  },
  {
   "cell_type": "code",
   "execution_count": 4,
   "id": "64cddb94",
   "metadata": {},
   "outputs": [],
   "source": [
    "class UNet(nn.Module):\n",
    "    def __init__(self):\n",
    "        super(UNet, self).__init__()\n",
    "        self.bilinear = True\n",
    "        \n",
    "        multi = 40\n",
    "        \n",
    "        self.inc = DoubleConv(1, multi) #1 instead of 12 for feeding 1 wave form at a time --> input channels \n",
    "        self.down1 = Down(multi, multi*2)\n",
    "        self.down2 = Down(multi*2, multi*4)\n",
    "        self.down3 = Down(multi*4, multi*8)\n",
    "        factor = 2 if self.bilinear else 1\n",
    "        self.down4 = Down(multi*8, multi*16 // factor,pool=False)\n",
    "        \n",
    "       \n",
    "        \n",
    "        self.up1 = Up(multi*16, multi*8 // factor, self.bilinear)\n",
    "        self.up2 = Up(multi*8, multi*4 // factor, self.bilinear)\n",
    "        self.up3 = Up(multi*4, multi*2 // factor, self.bilinear)\n",
    "        self.up4 = Up(multi*2, multi // factor, self.bilinear)\n",
    "        self.outc = OutConv(multi // factor, 3) # This 2 is number of decisions we want it to make. In the vowel case we only want 2 decisions (0/non0), in waveform case we may need more\n",
    "        self.softmax = torch.nn.Softmax(dim=-1)\n",
    "        #self.sigmoid = torch.Sigmoid()\n",
    "    \n",
    "    # @torchsnooper.snoop()\n",
    "    def forward(self, x):\n",
    "        x = x.transpose(1,2)\n",
    "        x1 = self.inc(x)\n",
    "        x2 = self.down1(x1)\n",
    "        x3 = self.down2(x2)\n",
    "        x4 = self.down3(x3)\n",
    "        \n",
    "        x5 = self.down4(x4)\n",
    "        \n",
    "        #Two inputs in the next ones because of the contraction paths \n",
    "        x = self.up1(x5, x4)\n",
    "        x = self.up2(x, x3)\n",
    "        x = self.up3(x, x2)\n",
    "        x = self.up4(x, x1)\n",
    "        output = self.outc(x)\n",
    "        \n",
    "        output = output.transpose(1,2)\n",
    "        # output = self.softmax(output)\n",
    "        output = torch.sigmoid(output)\n",
    "        \n",
    "        return output\n"
   ]
  },
  {
   "cell_type": "code",
   "execution_count": null,
   "id": "6f523145",
   "metadata": {},
   "outputs": [],
   "source": []
  },
  {
   "cell_type": "markdown",
   "id": "ad0a8e66",
   "metadata": {},
   "source": [
    "Similar to what we did in Lecture 2 homework, we will pull out 1 event from the dataset, and use `torchsnooper.snoop()` to check the network structure. Before proceeding to the next part, you may want to stare at the tensor output of `torchsnooper.snoop()` carefully to understand how the data is flowing within the RNN network."
   ]
  },
  {
   "cell_type": "code",
   "execution_count": 5,
   "id": "7c8de465",
   "metadata": {},
   "outputs": [
    {
     "name": "stdout",
     "output_type": "stream",
     "text": [
      "tensor([[[0.5210, 0.5581, 0.4700],\n",
      "         [0.4822, 0.6245, 0.4823],\n",
      "         [0.4846, 0.6078, 0.5212],\n",
      "         ...,\n",
      "         [0.5415, 0.5697, 0.4624],\n",
      "         [0.5510, 0.5729, 0.4580],\n",
      "         [0.5308, 0.5893, 0.4927]]], grad_fn=<SigmoidBackward0>)\n"
     ]
    }
   ],
   "source": [
    "#Pull out 1 event from the dataset\n",
    "test_event, test_label = next(iter(JapaneseVowelDataset(plot=False)))\n",
    "test_event = torch.FloatTensor(test_event).unsqueeze(0) # Insert batch dimension\n",
    "test_network = UNet()\n",
    "#print(type(test_event)) (torch.tensor)\n",
    "print(test_network(test_event))"
   ]
  },
  {
   "cell_type": "markdown",
   "id": "aa70e844",
   "metadata": {},
   "source": [
    "## Part III: Training\n",
    "After building the neural network, we train it the same way as we did in Lecture 2:"
   ]
  },
  {
   "cell_type": "code",
   "execution_count": 6,
   "id": "0003fda2",
   "metadata": {},
   "outputs": [],
   "source": [
    "DEVICE = torch.device(\"cuda:0\" if torch.cuda.is_available() else \"cpu\") # This says if GPU is available, use GPU, otherwise use CPU\n",
    "NUM_EPOCHS =20\n",
    "LEARNING_RATE =1e-3 # 1e-2 is a good learning rate for general purpose\n",
    "BATCH_SIZE=5"
   ]
  },
  {
   "cell_type": "code",
   "execution_count": 7,
   "id": "62313313",
   "metadata": {},
   "outputs": [],
   "source": [
    "def set_up_classifier():\n",
    "    classifier = UNet() # Define CNN neural network classifier\n",
    "    classifier.to(DEVICE)     # Send the classifier to DEVICE as we defined earlier\n",
    "\n",
    "    print(\"# of params in model: \", sum(x.numel() for x in classifier.parameters()))\n",
    "\n",
    "    criterion = torch.nn.BCELoss()\n",
    "    criterion = criterion.to(DEVICE)\n",
    "\n",
    "    #Define the optimizer\n",
    "    optimizer = torch.optim.Adam(classifier.parameters(),lr=LEARNING_RATE)\n",
    "    \n",
    "    return classifier, criterion, optimizer"
   ]
  },
  {
   "cell_type": "code",
   "execution_count": 8,
   "id": "cdd0da68",
   "metadata": {},
   "outputs": [],
   "source": [
    "def get_dataloader():\n",
    "    dataset = JapaneseVowelDataset(plot=False)\n",
    "    #Get the indices of train dataset and test dataset correspondingly, indices [0:train_test_split] is the training dataset, indices [train_test_split, len(dataset)] is the test dataset.\n",
    "    train_test_split = dataset.get_train_test_split()\n",
    "    train_indices, val_indices = list(range(train_test_split)), list(range(train_test_split,len(dataset)))\n",
    "\n",
    "    #Shuffle the two indices list\n",
    "    np.random.shuffle(train_indices)\n",
    "    np.random.shuffle(val_indices)\n",
    "    \n",
    "    #print(val_indices)\n",
    "    # Define two subset random sampler to sample events according to the training indices\n",
    "    train_sampler = SubsetRandomSampler(train_indices)\n",
    "    valid_sampler = SubsetRandomSampler(val_indices)\n",
    "\n",
    "    #print(train_sampler)\n",
    "    # Finally, define the loader by passing in the dataset, batch size and corresponding sampler\n",
    "    # Note that the number of data in each sub-dataset might not be divisibe by the batch size, so drop_last=True drops the last batch with all the residual events.\n",
    "    train_loader = data_utils.DataLoader(dataset, batch_size=BATCH_SIZE, sampler=train_sampler, drop_last=True)\n",
    "    test_loader = data_utils.DataLoader(dataset, batch_size=BATCH_SIZE,sampler=valid_sampler,  drop_last=True)\n",
    "    \n",
    "    return train_loader, test_loader"
   ]
  },
  {
   "cell_type": "code",
   "execution_count": 9,
   "id": "20165e4d",
   "metadata": {
    "scrolled": false
   },
   "outputs": [
    {
     "name": "stdout",
     "output_type": "stream",
     "text": [
      "# of params in model:  7008587\n"
     ]
    },
    {
     "name": "stderr",
     "output_type": "stream",
     "text": [
      "0it [00:00, ?it/s]\n"
     ]
    },
    {
     "ename": "ValueError",
     "evalue": "Using a target size (torch.Size([5, 1000, 2])) that is different to the input size (torch.Size([5, 1000, 3])) is deprecated. Please ensure they have the same size.",
     "output_type": "error",
     "traceback": [
      "\u001b[0;31m---------------------------------------------------------------------------\u001b[0m",
      "\u001b[0;31mValueError\u001b[0m                                Traceback (most recent call last)",
      "Cell \u001b[0;32mIn[9], line 22\u001b[0m\n\u001b[1;32m     19\u001b[0m outputs  \u001b[38;5;241m=\u001b[39m classifier(utterances)\n\u001b[1;32m     21\u001b[0m \u001b[38;5;66;03m# Calculate loss\u001b[39;00m\n\u001b[0;32m---> 22\u001b[0m loss \u001b[38;5;241m=\u001b[39m \u001b[43mcriterion\u001b[49m\u001b[43m(\u001b[49m\u001b[43moutputs\u001b[49m\u001b[43m,\u001b[49m\u001b[43m \u001b[49m\u001b[43mlabels\u001b[49m\u001b[43m)\u001b[49m\n\u001b[1;32m     24\u001b[0m \u001b[38;5;66;03m# Back-propagate loss to update gradient\u001b[39;00m\n\u001b[1;32m     25\u001b[0m loss\u001b[38;5;241m.\u001b[39mbackward()\n",
      "File \u001b[0;32m~/venv-metal/lib/python3.10/site-packages/torch/nn/modules/module.py:1194\u001b[0m, in \u001b[0;36mModule._call_impl\u001b[0;34m(self, *input, **kwargs)\u001b[0m\n\u001b[1;32m   1190\u001b[0m \u001b[38;5;66;03m# If we don't have any hooks, we want to skip the rest of the logic in\u001b[39;00m\n\u001b[1;32m   1191\u001b[0m \u001b[38;5;66;03m# this function, and just call forward.\u001b[39;00m\n\u001b[1;32m   1192\u001b[0m \u001b[38;5;28;01mif\u001b[39;00m \u001b[38;5;129;01mnot\u001b[39;00m (\u001b[38;5;28mself\u001b[39m\u001b[38;5;241m.\u001b[39m_backward_hooks \u001b[38;5;129;01mor\u001b[39;00m \u001b[38;5;28mself\u001b[39m\u001b[38;5;241m.\u001b[39m_forward_hooks \u001b[38;5;129;01mor\u001b[39;00m \u001b[38;5;28mself\u001b[39m\u001b[38;5;241m.\u001b[39m_forward_pre_hooks \u001b[38;5;129;01mor\u001b[39;00m _global_backward_hooks\n\u001b[1;32m   1193\u001b[0m         \u001b[38;5;129;01mor\u001b[39;00m _global_forward_hooks \u001b[38;5;129;01mor\u001b[39;00m _global_forward_pre_hooks):\n\u001b[0;32m-> 1194\u001b[0m     \u001b[38;5;28;01mreturn\u001b[39;00m \u001b[43mforward_call\u001b[49m\u001b[43m(\u001b[49m\u001b[38;5;241;43m*\u001b[39;49m\u001b[38;5;28;43minput\u001b[39;49m\u001b[43m,\u001b[49m\u001b[43m \u001b[49m\u001b[38;5;241;43m*\u001b[39;49m\u001b[38;5;241;43m*\u001b[39;49m\u001b[43mkwargs\u001b[49m\u001b[43m)\u001b[49m\n\u001b[1;32m   1195\u001b[0m \u001b[38;5;66;03m# Do not call functions when jit is used\u001b[39;00m\n\u001b[1;32m   1196\u001b[0m full_backward_hooks, non_full_backward_hooks \u001b[38;5;241m=\u001b[39m [], []\n",
      "File \u001b[0;32m~/venv-metal/lib/python3.10/site-packages/torch/nn/modules/loss.py:619\u001b[0m, in \u001b[0;36mBCELoss.forward\u001b[0;34m(self, input, target)\u001b[0m\n\u001b[1;32m    618\u001b[0m \u001b[38;5;28;01mdef\u001b[39;00m \u001b[38;5;21mforward\u001b[39m(\u001b[38;5;28mself\u001b[39m, \u001b[38;5;28minput\u001b[39m: Tensor, target: Tensor) \u001b[38;5;241m-\u001b[39m\u001b[38;5;241m>\u001b[39m Tensor:\n\u001b[0;32m--> 619\u001b[0m     \u001b[38;5;28;01mreturn\u001b[39;00m \u001b[43mF\u001b[49m\u001b[38;5;241;43m.\u001b[39;49m\u001b[43mbinary_cross_entropy\u001b[49m\u001b[43m(\u001b[49m\u001b[38;5;28;43minput\u001b[39;49m\u001b[43m,\u001b[49m\u001b[43m \u001b[49m\u001b[43mtarget\u001b[49m\u001b[43m,\u001b[49m\u001b[43m \u001b[49m\u001b[43mweight\u001b[49m\u001b[38;5;241;43m=\u001b[39;49m\u001b[38;5;28;43mself\u001b[39;49m\u001b[38;5;241;43m.\u001b[39;49m\u001b[43mweight\u001b[49m\u001b[43m,\u001b[49m\u001b[43m \u001b[49m\u001b[43mreduction\u001b[49m\u001b[38;5;241;43m=\u001b[39;49m\u001b[38;5;28;43mself\u001b[39;49m\u001b[38;5;241;43m.\u001b[39;49m\u001b[43mreduction\u001b[49m\u001b[43m)\u001b[49m\n",
      "File \u001b[0;32m~/venv-metal/lib/python3.10/site-packages/torch/nn/functional.py:3086\u001b[0m, in \u001b[0;36mbinary_cross_entropy\u001b[0;34m(input, target, weight, size_average, reduce, reduction)\u001b[0m\n\u001b[1;32m   3084\u001b[0m     reduction_enum \u001b[38;5;241m=\u001b[39m _Reduction\u001b[38;5;241m.\u001b[39mget_enum(reduction)\n\u001b[1;32m   3085\u001b[0m \u001b[38;5;28;01mif\u001b[39;00m target\u001b[38;5;241m.\u001b[39msize() \u001b[38;5;241m!=\u001b[39m \u001b[38;5;28minput\u001b[39m\u001b[38;5;241m.\u001b[39msize():\n\u001b[0;32m-> 3086\u001b[0m     \u001b[38;5;28;01mraise\u001b[39;00m \u001b[38;5;167;01mValueError\u001b[39;00m(\n\u001b[1;32m   3087\u001b[0m         \u001b[38;5;124m\"\u001b[39m\u001b[38;5;124mUsing a target size (\u001b[39m\u001b[38;5;132;01m{}\u001b[39;00m\u001b[38;5;124m) that is different to the input size (\u001b[39m\u001b[38;5;132;01m{}\u001b[39;00m\u001b[38;5;124m) is deprecated. \u001b[39m\u001b[38;5;124m\"\u001b[39m\n\u001b[1;32m   3088\u001b[0m         \u001b[38;5;124m\"\u001b[39m\u001b[38;5;124mPlease ensure they have the same size.\u001b[39m\u001b[38;5;124m\"\u001b[39m\u001b[38;5;241m.\u001b[39mformat(target\u001b[38;5;241m.\u001b[39msize(), \u001b[38;5;28minput\u001b[39m\u001b[38;5;241m.\u001b[39msize())\n\u001b[1;32m   3089\u001b[0m     )\n\u001b[1;32m   3091\u001b[0m \u001b[38;5;28;01mif\u001b[39;00m weight \u001b[38;5;129;01mis\u001b[39;00m \u001b[38;5;129;01mnot\u001b[39;00m \u001b[38;5;28;01mNone\u001b[39;00m:\n\u001b[1;32m   3092\u001b[0m     new_size \u001b[38;5;241m=\u001b[39m _infer_size(target\u001b[38;5;241m.\u001b[39msize(), weight\u001b[38;5;241m.\u001b[39msize())\n",
      "\u001b[0;31mValueError\u001b[0m: Using a target size (torch.Size([5, 1000, 2])) that is different to the input size (torch.Size([5, 1000, 3])) is deprecated. Please ensure they have the same size."
     ]
    }
   ],
   "source": [
    "classifier, criterion, optimizer = set_up_classifier()\n",
    "train_loader, test_loader = get_dataloader()\n",
    "\n",
    "\n",
    "loss_values = []\n",
    "accuracy_values = []\n",
    "y_true = []\n",
    "y_pred = []\n",
    "        \n",
    "for epoch in range(NUM_EPOCHS):\n",
    "    for i, (utterances, labels) in tqdm(enumerate(train_loader)):\n",
    "\n",
    "        classifier.train() # This line set the neural network to train mode, some layers perform differently in train and test mode.\n",
    "        \n",
    "        utterances = utterances.to(DEVICE).float()\n",
    "        labels = labels.to(DEVICE).float()\n",
    "\n",
    "        #Train the RNN classifier\n",
    "        outputs  = classifier(utterances)\n",
    "        \n",
    "        # Calculate loss\n",
    "        loss = criterion(outputs, labels)\n",
    "        \n",
    "        # Back-propagate loss to update gradient\n",
    "        loss.backward()\n",
    "        \n",
    "        # Perform gradient descent to update parameters\n",
    "        optimizer.step()\n",
    "        \n",
    "        # reset gradient to 0 on all parameters\n",
    "        optimizer.zero_grad()\n",
    "    \n",
    "        utterances = utterances.to(DEVICE).float()\n",
    "        labels = labels.to(DEVICE)\n",
    "\n",
    "        #Train the RNN classifier\n",
    "        outputs  = classifier(utterances)\n",
    "        \n",
    "        # Calculate loss\n",
    "        loss = criterion(outputs, labels)\n",
    "        \n",
    "        # Back-propagate loss to update gradient\n",
    "        loss.backward()\n",
    "        \n",
    "        # Perform gradient descent to update parameters\n",
    "        optimizer.step()\n",
    "        \n",
    "        # reset gradient to 0 on all parameters\n",
    "        optimizer.zero_grad()\n",
    "\n",
    "    print('\\rEpoch [{0}/{1}], Iter [{2}/{3}] Loss: {4:.4f}'.format(\n",
    "        epoch+1, NUM_EPOCHS, i+1, len(train_loader),\n",
    "        loss.item(), end=\"\"),end=\"\")\n",
    "    loss_values.append(loss.item())\n"
   ]
  },
  {
   "cell_type": "code",
   "execution_count": null,
   "id": "32fd030c",
   "metadata": {},
   "outputs": [],
   "source": [
    "test_event, test_label = JapaneseVowelDataset(plot=False).__getitem__(10)\n",
    "test_event = torch.FloatTensor(test_event).unsqueeze(0) # Insert batch dimension\n",
    "test_network = classifier\n",
    "test_network.eval()\n",
    "decision = torch.softmax(test_network(test_event),dim=-1)\n",
    "print(decision)\n",
    "test_event = test_event.detach().numpy()\n",
    "decision = decision.detach().numpy()\n",
    "plt.plot(test_event[0,:,:])\n",
    "\n",
    "plt.plot([j[0]*5 for j in decision[0]])\n",
    "plt.plot([(j[2]-0.212)*55 for j in decision[0]])\n",
    "\n",
    "print([j[0]*5 for j in decision])\n",
    "plt.show()"
   ]
  },
  {
   "cell_type": "code",
   "execution_count": null,
   "id": "ea5f7cbe",
   "metadata": {},
   "outputs": [],
   "source": []
  },
  {
   "cell_type": "code",
   "execution_count": null,
   "id": "dade5a5a",
   "metadata": {},
   "outputs": [],
   "source": []
  },
  {
   "cell_type": "code",
   "execution_count": null,
   "id": "b5195de0",
   "metadata": {},
   "outputs": [],
   "source": []
  },
  {
   "cell_type": "code",
   "execution_count": null,
   "id": "42a208ca",
   "metadata": {},
   "outputs": [],
   "source": []
  },
  {
   "cell_type": "code",
   "execution_count": null,
   "id": "aa1f4e47",
   "metadata": {},
   "outputs": [],
   "source": []
  },
  {
   "cell_type": "code",
   "execution_count": null,
   "id": "5df00ade",
   "metadata": {},
   "outputs": [],
   "source": []
  },
  {
   "cell_type": "code",
   "execution_count": null,
   "id": "8545200c",
   "metadata": {},
   "outputs": [],
   "source": []
  }
 ],
 "metadata": {
  "kernelspec": {
   "display_name": "Python 3 (ipykernel)",
   "language": "python",
   "name": "python3"
  },
  "language_info": {
   "codemirror_mode": {
    "name": "ipython",
    "version": 3
   },
   "file_extension": ".py",
   "mimetype": "text/x-python",
   "name": "python",
   "nbconvert_exporter": "python",
   "pygments_lexer": "ipython3",
   "version": "3.10.8"
  }
 },
 "nbformat": 4,
 "nbformat_minor": 5
}
