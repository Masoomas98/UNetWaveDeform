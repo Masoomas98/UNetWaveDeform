{
 "cells": [
  {
   "cell_type": "code",
   "execution_count": 5,
   "id": "32e489da",
   "metadata": {},
   "outputs": [
    {
     "name": "stdout",
     "output_type": "stream",
     "text": [
      "[-8.104421508125634, -6.615085665019317, -5.630717903799196, -4.919880930827792, -4.374058465024705, -1.40649706843741, -1.0463994172211755, -0.7412875558878803, -0.4764241970486583, -0.24590053843682594]\n",
      "[0.0008245029765292451, 0.0007166815073243323, 0.0006448593229096796, 0.0005940609276543796, 0.0005741017488224085, 0.0005242231129827682, 0.0004985866821400703, 0.0004770989487365692]\n"
     ]
    },
    {
     "ename": "TypeError",
     "evalue": "expected x and y to have same length",
     "output_type": "error",
     "traceback": [
      "\u001b[0;31m---------------------------------------------------------------------------\u001b[0m",
      "\u001b[0;31mTypeError\u001b[0m                                 Traceback (most recent call last)",
      "Cell \u001b[0;32mIn[5], line 33\u001b[0m\n\u001b[1;32m     31\u001b[0m \u001b[38;5;28mprint\u001b[39m(Tinv)\n\u001b[1;32m     32\u001b[0m \u001b[38;5;66;03m#slope of the line\u001b[39;00m\n\u001b[0;32m---> 33\u001b[0m z\u001b[38;5;241m=\u001b[39m\u001b[43mnp\u001b[49m\u001b[38;5;241;43m.\u001b[39;49m\u001b[43mpolyfit\u001b[49m\u001b[43m(\u001b[49m\u001b[43mTinv\u001b[49m\u001b[43m,\u001b[49m\u001b[43mLgS\u001b[49m\u001b[43m,\u001b[49m\u001b[38;5;241;43m1\u001b[39;49m\u001b[43m)\u001b[49m\n\u001b[1;32m     34\u001b[0m p\u001b[38;5;241m=\u001b[39mnp\u001b[38;5;241m.\u001b[39mpoly1d(z)\n\u001b[1;32m     35\u001b[0m x_fit\u001b[38;5;241m=\u001b[39mnp\u001b[38;5;241m.\u001b[39mlinspace(\u001b[38;5;241m0.0004\u001b[39m,\u001b[38;5;241m0.0009\u001b[39m)\n",
      "File \u001b[0;32m<__array_function__ internals>:200\u001b[0m, in \u001b[0;36mpolyfit\u001b[0;34m(*args, **kwargs)\u001b[0m\n",
      "File \u001b[0;32m~/venv-metal/lib/python3.10/site-packages/numpy/lib/polynomial.py:642\u001b[0m, in \u001b[0;36mpolyfit\u001b[0;34m(x, y, deg, rcond, full, w, cov)\u001b[0m\n\u001b[1;32m    640\u001b[0m     \u001b[38;5;28;01mraise\u001b[39;00m \u001b[38;5;167;01mTypeError\u001b[39;00m(\u001b[38;5;124m\"\u001b[39m\u001b[38;5;124mexpected 1D or 2D array for y\u001b[39m\u001b[38;5;124m\"\u001b[39m)\n\u001b[1;32m    641\u001b[0m \u001b[38;5;28;01mif\u001b[39;00m x\u001b[38;5;241m.\u001b[39mshape[\u001b[38;5;241m0\u001b[39m] \u001b[38;5;241m!=\u001b[39m y\u001b[38;5;241m.\u001b[39mshape[\u001b[38;5;241m0\u001b[39m]:\n\u001b[0;32m--> 642\u001b[0m     \u001b[38;5;28;01mraise\u001b[39;00m \u001b[38;5;167;01mTypeError\u001b[39;00m(\u001b[38;5;124m\"\u001b[39m\u001b[38;5;124mexpected x and y to have same length\u001b[39m\u001b[38;5;124m\"\u001b[39m)\n\u001b[1;32m    644\u001b[0m \u001b[38;5;66;03m# set rcond\u001b[39;00m\n\u001b[1;32m    645\u001b[0m \u001b[38;5;28;01mif\u001b[39;00m rcond \u001b[38;5;129;01mis\u001b[39;00m \u001b[38;5;28;01mNone\u001b[39;00m:\n",
      "\u001b[0;31mTypeError\u001b[0m: expected x and y to have same length"
     ]
    }
   ],
   "source": [
    "\n",
    "import numpy as np\n",
    "import matplotlib.pyplot as plt\n",
    "Lamda=850e-9\n",
    "#Applied current\n",
    "I=[0.520,0.586,0.645,0.701,0.754,0.803,0.850,0.895]\n",
    "#Voltage Drop\n",
    "V=[2.9762,3.9709,4.9637,5.9552,6.6747,7.9311,8.9181,9.9021]\n",
    "#Resitance at given voltage drop\n",
    "Rd=[]\n",
    "for i in range (0,len(V)):\n",
    "    Rd.append(V[i]/I[i])\n",
    "#Resitance at room temperature\n",
    "R1 = 1.03\n",
    "#Room Temperature:\n",
    "T1 = 292.15\n",
    "#Calculating the final temperature\n",
    "Tf=[]\n",
    "for j in range (0,len(Rd)):\n",
    "    Tf.append(T1*((Rd[j]/R1)**(0.83)))\n",
    "#The output voltage in locking amplifier.\n",
    "S=[0.3022e-3,1.34e-3,3.586e-3,7.3e-3,12.6e-3,245.e-3,351.2e-3,476.5e-3,621e-3,782e-3]\n",
    "#log(S)\n",
    "LgS=[]\n",
    "for i in range (0,len(S)):\n",
    "    LgS.append(np.log(S[i]))\n",
    "print(LgS)\n",
    "#inverse of T\n",
    "Tinv=[]\n",
    "for i in range (0,len(Tf)):\n",
    "    Tinv.append(1/Tf[i])\n",
    "print(Tinv)\n",
    "#slope of the line\n",
    "z=np.polyfit(Tinv,LgS,1)\n",
    "p=np.poly1d(z)\n",
    "x_fit=np.linspace(0.0004,0.0009)\n",
    "y_fit=p(x_fit)\n",
    "plt.plot(Tinv,LgS,'bo',x_fit,y_fit,'r-')\n",
    "plt.grid()\n",
    "plt.show\n",
    "plt.ylabel(\"lnS\")\n",
    "plt.xlabel(\"1/T\")\n",
    "y_pre=[]\n",
    "for i in range(0,len(LgS)):\n",
    "    y_pre.append(z[0]*Tinv[i]+z[[1]])\n",
    "RMS=[]\n",
    "for i in range (0,len(y_pre)):\n",
    "    RMS.append((LgS[i]-y_pre[i]))\n",
    "RMSE=((np.sum(RMS))/len(RMS))**(0.5)\n",
    "print(\"Equation\",p,'+',RMSE)\n",
    "BC=-((6.634e-34)*(3e8))/((Lamda)*z[0])\n",
    "print(BC,RMS)"
   ]
  },
  {
   "cell_type": "code",
   "execution_count": null,
   "id": "ab7c6b1d",
   "metadata": {},
   "outputs": [],
   "source": []
  }
 ],
 "metadata": {
  "kernelspec": {
   "display_name": "Python 3 (ipykernel)",
   "language": "python",
   "name": "python3"
  },
  "language_info": {
   "codemirror_mode": {
    "name": "ipython",
    "version": 3
   },
   "file_extension": ".py",
   "mimetype": "text/x-python",
   "name": "python",
   "nbconvert_exporter": "python",
   "pygments_lexer": "ipython3",
   "version": "3.10.8"
  }
 },
 "nbformat": 4,
 "nbformat_minor": 5
}
