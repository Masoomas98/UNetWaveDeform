{
  "nbformat": 4,
  "nbformat_minor": 0,
  "metadata": {
    "colab": {
      "provenance": [],
      "gpuType": "T4",
      "authorship_tag": "ABX9TyM7jTp4IyjI1HvNedXLaBfI",
      "include_colab_link": true
    },
    "kernelspec": {
      "name": "python3",
      "display_name": "Python 3"
    },
    "language_info": {
      "name": "python"
    },
    "accelerator": "GPU"
  },
  "cells": [
    {
      "cell_type": "markdown",
      "metadata": {
        "id": "view-in-github",
        "colab_type": "text"
      },
      "source": [
        "<a href=\"https://colab.research.google.com/github/Masoomas98/UNetWaveDeform/blob/main/Pytorch/PyTorch_fudamental00.ipynb\" target=\"_parent\"><img src=\"https://colab.research.google.com/assets/colab-badge.svg\" alt=\"Open In Colab\"/></a>"
      ]
    },
    {
      "cell_type": "code",
      "execution_count": null,
      "metadata": {
        "colab": {
          "base_uri": "https://localhost:8080/"
        },
        "id": "tNQHA-TRp8mm",
        "outputId": "33cfa918-ddf9-441d-c129-bfa199635353"
      },
      "outputs": [
        {
          "output_type": "stream",
          "name": "stdout",
          "text": [
            "Sat Jul  8 21:18:00 2023       \n",
            "+-----------------------------------------------------------------------------+\n",
            "| NVIDIA-SMI 525.85.12    Driver Version: 525.85.12    CUDA Version: 12.0     |\n",
            "|-------------------------------+----------------------+----------------------+\n",
            "| GPU  Name        Persistence-M| Bus-Id        Disp.A | Volatile Uncorr. ECC |\n",
            "| Fan  Temp  Perf  Pwr:Usage/Cap|         Memory-Usage | GPU-Util  Compute M. |\n",
            "|                               |                      |               MIG M. |\n",
            "|===============================+======================+======================|\n",
            "|   0  Tesla T4            Off  | 00000000:00:04.0 Off |                    0 |\n",
            "| N/A   47C    P8    10W /  70W |      0MiB / 15360MiB |      0%      Default |\n",
            "|                               |                      |                  N/A |\n",
            "+-------------------------------+----------------------+----------------------+\n",
            "                                                                               \n",
            "+-----------------------------------------------------------------------------+\n",
            "| Processes:                                                                  |\n",
            "|  GPU   GI   CI        PID   Type   Process name                  GPU Memory |\n",
            "|        ID   ID                                                   Usage      |\n",
            "|=============================================================================|\n",
            "|  No running processes found                                                 |\n",
            "+-----------------------------------------------------------------------------+\n"
          ]
        }
      ],
      "source": [
        "!nvidia-smi"
      ]
    },
    {
      "cell_type": "code",
      "source": [
        "import torch\n",
        "import pandas as pd\n",
        "import numpy as np\n",
        "import matplotlib.pyplot as plot\n",
        "print(torch.__version__)"
      ],
      "metadata": {
        "colab": {
          "base_uri": "https://localhost:8080/"
        },
        "id": "Y652ftZlq1E-",
        "outputId": "f5c6ae9f-d99d-465b-e83d-2cf5adbd3f25"
      },
      "execution_count": null,
      "outputs": [
        {
          "output_type": "stream",
          "name": "stdout",
          "text": [
            "2.0.1+cu118\n"
          ]
        }
      ]
    },
    {
      "cell_type": "code",
      "source": [
        "##Tensors\n",
        "\n",
        "##Creating tensors"
      ],
      "metadata": {
        "id": "SK0DNPi2uqFp"
      },
      "execution_count": null,
      "outputs": []
    },
    {
      "cell_type": "markdown",
      "source": [],
      "metadata": {
        "id": "iQ8Tng8Quqi8"
      }
    },
    {
      "cell_type": "code",
      "source": [
        "#Scalar\n",
        "scalar = torch.tensor(7)\n",
        "scalar"
      ],
      "metadata": {
        "colab": {
          "base_uri": "https://localhost:8080/"
        },
        "id": "ImaWSToHukXd",
        "outputId": "bc7758b8-3ca7-46b0-d614-d0c855c56d4c"
      },
      "execution_count": null,
      "outputs": [
        {
          "output_type": "execute_result",
          "data": {
            "text/plain": [
              "tensor(7)"
            ]
          },
          "metadata": {},
          "execution_count": 4
        }
      ]
    },
    {
      "cell_type": "code",
      "source": [
        "scalar.ndim"
      ],
      "metadata": {
        "colab": {
          "base_uri": "https://localhost:8080/"
        },
        "id": "T3FcFsTEu5mY",
        "outputId": "92419e3a-321b-453a-85f8-80cf541d613d"
      },
      "execution_count": null,
      "outputs": [
        {
          "output_type": "execute_result",
          "data": {
            "text/plain": [
              "0"
            ]
          },
          "metadata": {},
          "execution_count": 5
        }
      ]
    },
    {
      "cell_type": "code",
      "source": [
        "scalar.item()\n",
        "#get scalar as a python integer"
      ],
      "metadata": {
        "colab": {
          "base_uri": "https://localhost:8080/"
        },
        "id": "vuZOejzlvW2K",
        "outputId": "3c5c8406-2194-41ec-ebe5-19110eec53f5"
      },
      "execution_count": null,
      "outputs": [
        {
          "output_type": "execute_result",
          "data": {
            "text/plain": [
              "7"
            ]
          },
          "metadata": {},
          "execution_count": 6
        }
      ]
    },
    {
      "cell_type": "code",
      "source": [
        "vector = torch.tensor([7,7])\n",
        "vector"
      ],
      "metadata": {
        "colab": {
          "base_uri": "https://localhost:8080/"
        },
        "id": "4DXrr7ljvZ04",
        "outputId": "d64986af-9ed4-4b43-9758-baca565bb4f0"
      },
      "execution_count": null,
      "outputs": [
        {
          "output_type": "execute_result",
          "data": {
            "text/plain": [
              "tensor([7, 7])"
            ]
          },
          "metadata": {},
          "execution_count": 7
        }
      ]
    },
    {
      "cell_type": "code",
      "source": [
        "vector.ndim"
      ],
      "metadata": {
        "colab": {
          "base_uri": "https://localhost:8080/"
        },
        "id": "lAgxtJxPvmy-",
        "outputId": "c68f843b-7229-4ef0-aa84-3af27c449ff9"
      },
      "execution_count": null,
      "outputs": [
        {
          "output_type": "execute_result",
          "data": {
            "text/plain": [
              "1"
            ]
          },
          "metadata": {},
          "execution_count": 8
        }
      ]
    },
    {
      "cell_type": "code",
      "source": [
        "vector.shape"
      ],
      "metadata": {
        "colab": {
          "base_uri": "https://localhost:8080/"
        },
        "id": "fEcfUZCHvqP5",
        "outputId": "1259a8d6-9e02-478e-983d-0cb332ae77ed"
      },
      "execution_count": null,
      "outputs": [
        {
          "output_type": "execute_result",
          "data": {
            "text/plain": [
              "torch.Size([2])"
            ]
          },
          "metadata": {},
          "execution_count": 9
        }
      ]
    },
    {
      "cell_type": "code",
      "source": [
        "#Matrix\n",
        "matrix = torch.tensor([[1,2],[3,4]])\n",
        "matrix"
      ],
      "metadata": {
        "colab": {
          "base_uri": "https://localhost:8080/"
        },
        "id": "PEQp1h2tvsNX",
        "outputId": "ef48ddba-211d-4d05-ea65-8814a1fe06d7"
      },
      "execution_count": null,
      "outputs": [
        {
          "output_type": "execute_result",
          "data": {
            "text/plain": [
              "tensor([[1, 2],\n",
              "        [3, 4]])"
            ]
          },
          "metadata": {},
          "execution_count": 10
        }
      ]
    },
    {
      "cell_type": "code",
      "source": [
        "matrix.shape"
      ],
      "metadata": {
        "colab": {
          "base_uri": "https://localhost:8080/"
        },
        "id": "w8HsWdUkv6A4",
        "outputId": "12cdb9b7-0b25-43fb-d0f8-9a5d0aed7884"
      },
      "execution_count": null,
      "outputs": [
        {
          "output_type": "execute_result",
          "data": {
            "text/plain": [
              "torch.Size([2, 2])"
            ]
          },
          "metadata": {},
          "execution_count": 11
        }
      ]
    },
    {
      "cell_type": "code",
      "source": [
        "matrix.ndim\n"
      ],
      "metadata": {
        "colab": {
          "base_uri": "https://localhost:8080/"
        },
        "id": "NSHv8Z50v_9S",
        "outputId": "dc0533af-22c8-4af4-ba83-595ecf6ad625"
      },
      "execution_count": null,
      "outputs": [
        {
          "output_type": "execute_result",
          "data": {
            "text/plain": [
              "2"
            ]
          },
          "metadata": {},
          "execution_count": 12
        }
      ]
    },
    {
      "cell_type": "code",
      "source": [
        "#Tensor\n",
        "TENSOR = torch.tensor([[[1,2,3],[4,5,6],[9,8,7]]])\n",
        "TENSOR"
      ],
      "metadata": {
        "colab": {
          "base_uri": "https://localhost:8080/"
        },
        "id": "bKF9NyD6wHXn",
        "outputId": "b7a01ad7-b722-4a98-c99d-f6467f8bb01b"
      },
      "execution_count": null,
      "outputs": [
        {
          "output_type": "execute_result",
          "data": {
            "text/plain": [
              "tensor([[[1, 2, 3],\n",
              "         [4, 5, 6],\n",
              "         [9, 8, 7]]])"
            ]
          },
          "metadata": {},
          "execution_count": 13
        }
      ]
    },
    {
      "cell_type": "code",
      "source": [
        "TENSOR.ndim"
      ],
      "metadata": {
        "colab": {
          "base_uri": "https://localhost:8080/"
        },
        "id": "KV4xlQqsw3ma",
        "outputId": "95048502-de19-4905-e482-e6b690aa6a0e"
      },
      "execution_count": null,
      "outputs": [
        {
          "output_type": "execute_result",
          "data": {
            "text/plain": [
              "3"
            ]
          },
          "metadata": {},
          "execution_count": 14
        }
      ]
    },
    {
      "cell_type": "code",
      "source": [
        "TENSOR.shape\n",
        "#([1,3,3]) 1 CORRESPONDS to the first outer bracket second 3 corresponds to 3 square brackets and last 3 corresponds to 3 elements"
      ],
      "metadata": {
        "colab": {
          "base_uri": "https://localhost:8080/"
        },
        "id": "L-TohZ14w78I",
        "outputId": "2e312dcd-80f6-4489-abfe-4224bd1ecc32"
      },
      "execution_count": null,
      "outputs": [
        {
          "output_type": "execute_result",
          "data": {
            "text/plain": [
              "torch.Size([1, 3, 3])"
            ]
          },
          "metadata": {},
          "execution_count": 15
        }
      ]
    },
    {
      "cell_type": "code",
      "source": [
        "#Random tensors"
      ],
      "metadata": {
        "id": "1UtziN2qxBI5"
      },
      "execution_count": null,
      "outputs": []
    },
    {
      "cell_type": "markdown",
      "source": [
        "Random tensors\n",
        "\n",
        "We've established tensors represent some form of data.\n",
        "\n",
        "And machine learning models such as neural networks manipulate and seek patterns within tensors.\n",
        "\n",
        "But when building machine learning models with PyTorch, it's rare you'll create tensors by hand (like what we've being doing).\n",
        "\n",
        "Instead, a machine learning model often starts out with large random tensors of numbers and adjusts these random numbers as it works through data to better represent it.\n",
        "\n",
        "In essence:\n",
        "\n",
        "Start with random numbers -> look at data -> update random numbers -> look at data -> update random numbers...\n",
        "\n",
        "As a data scientist, you can define how the machine learning model starts (initialization), looks at data (representation) and updates (optimization) its random numbers.\n",
        "\n",
        "We'll get hands on with these steps later on.\n",
        "\n",
        "For now, let's see how to create a tensor of random numbers.\n",
        "\n",
        "We can do so using torch.rand() and passing in the size parameter."
      ],
      "metadata": {
        "id": "gj3hTbz00g56"
      }
    },
    {
      "cell_type": "code",
      "source": [
        "random_tensor = torch.rand(1,3,4)"
      ],
      "metadata": {
        "id": "nQHsl4rW0ZvY"
      },
      "execution_count": null,
      "outputs": []
    },
    {
      "cell_type": "code",
      "source": [
        "random_tensor"
      ],
      "metadata": {
        "colab": {
          "base_uri": "https://localhost:8080/"
        },
        "id": "TeemUrLTz5NO",
        "outputId": "3503734b-0390-489f-f7b9-cce59145c9ad"
      },
      "execution_count": null,
      "outputs": [
        {
          "output_type": "execute_result",
          "data": {
            "text/plain": [
              "tensor([[[0.6945, 0.7825, 0.2974, 0.7523],\n",
              "         [0.8289, 0.9321, 0.1000, 0.5007],\n",
              "         [0.8293, 0.8852, 0.4303, 0.8911]]])"
            ]
          },
          "metadata": {},
          "execution_count": 18
        }
      ]
    },
    {
      "cell_type": "code",
      "source": [
        "random_tensor.ndim"
      ],
      "metadata": {
        "colab": {
          "base_uri": "https://localhost:8080/"
        },
        "id": "h6KEtAiC2rpf",
        "outputId": "b217422e-c4e0-4cc6-d500-cbe1ac44e21c"
      },
      "execution_count": null,
      "outputs": [
        {
          "output_type": "execute_result",
          "data": {
            "text/plain": [
              "3"
            ]
          },
          "metadata": {},
          "execution_count": 19
        }
      ]
    },
    {
      "cell_type": "code",
      "source": [
        "random_tensor.shape"
      ],
      "metadata": {
        "colab": {
          "base_uri": "https://localhost:8080/"
        },
        "id": "LdkNbS2y22vQ",
        "outputId": "78e9f898-492e-418c-ede0-abd10490e8cd"
      },
      "execution_count": null,
      "outputs": [
        {
          "output_type": "execute_result",
          "data": {
            "text/plain": [
              "torch.Size([1, 3, 4])"
            ]
          },
          "metadata": {},
          "execution_count": 20
        }
      ]
    },
    {
      "cell_type": "code",
      "source": [
        "random_image_tensor = torch.rand(size=(224,224,3)) # 224 height, 224 width, 3 means the R,G,B colours\n",
        "random_image_tensor.shape, random_image_tensor.ndim"
      ],
      "metadata": {
        "colab": {
          "base_uri": "https://localhost:8080/"
        },
        "id": "nj6fulQ528lL",
        "outputId": "8a5178c1-2695-4b85-8597-2715afc41ab1"
      },
      "execution_count": null,
      "outputs": [
        {
          "output_type": "execute_result",
          "data": {
            "text/plain": [
              "(torch.Size([224, 224, 3]), 3)"
            ]
          },
          "metadata": {},
          "execution_count": 21
        }
      ]
    },
    {
      "cell_type": "code",
      "source": [
        "### Zeros and ones\n",
        "zero = torch.zeros(size=(3,4))\n",
        "zero"
      ],
      "metadata": {
        "colab": {
          "base_uri": "https://localhost:8080/"
        },
        "id": "9i41soQj4kYP",
        "outputId": "fa2c77f0-90a2-4e9a-c512-797e5065dbbc"
      },
      "execution_count": null,
      "outputs": [
        {
          "output_type": "execute_result",
          "data": {
            "text/plain": [
              "tensor([[0., 0., 0., 0.],\n",
              "        [0., 0., 0., 0.],\n",
              "        [0., 0., 0., 0.]])"
            ]
          },
          "metadata": {},
          "execution_count": 22
        }
      ]
    },
    {
      "cell_type": "code",
      "source": [
        "ones = torch.ones(size=(3,4))\n",
        "ones"
      ],
      "metadata": {
        "colab": {
          "base_uri": "https://localhost:8080/"
        },
        "id": "o8eHFoxQtM66",
        "outputId": "b2444989-cbf9-402a-f22d-ba36f074f2af"
      },
      "execution_count": null,
      "outputs": [
        {
          "output_type": "execute_result",
          "data": {
            "text/plain": [
              "tensor([[1., 1., 1., 1.],\n",
              "        [1., 1., 1., 1.],\n",
              "        [1., 1., 1., 1.]])"
            ]
          },
          "metadata": {},
          "execution_count": 23
        }
      ]
    },
    {
      "cell_type": "code",
      "source": [
        "ones.dtype"
      ],
      "metadata": {
        "colab": {
          "base_uri": "https://localhost:8080/"
        },
        "id": "4q-rpH_2tgVp",
        "outputId": "531c7f66-439a-41d8-8a94-d2d0bfc985be"
      },
      "execution_count": null,
      "outputs": [
        {
          "output_type": "execute_result",
          "data": {
            "text/plain": [
              "torch.float32"
            ]
          },
          "metadata": {},
          "execution_count": 24
        }
      ]
    },
    {
      "cell_type": "code",
      "source": [
        "random_tensor.dtype"
      ],
      "metadata": {
        "colab": {
          "base_uri": "https://localhost:8080/"
        },
        "id": "QQvAso31tiUo",
        "outputId": "4d13a1ee-161e-4784-94ad-b95a1fc9ee82"
      },
      "execution_count": null,
      "outputs": [
        {
          "output_type": "execute_result",
          "data": {
            "text/plain": [
              "torch.float32"
            ]
          },
          "metadata": {},
          "execution_count": 25
        }
      ]
    },
    {
      "cell_type": "code",
      "source": [
        "#Creating a range of tensors and tensors-like\n",
        "one_to_ten= torch.arange(start =1, end=11, step=1) #tensors of 1 till 10"
      ],
      "metadata": {
        "id": "CTiurXW7tndk"
      },
      "execution_count": null,
      "outputs": []
    },
    {
      "cell_type": "code",
      "source": [
        "#creating tensor like\n",
        "ten_zeros = torch.zeros_like(input=one_to_ten)\n",
        "ten_zeros #same shape as one_to_ten"
      ],
      "metadata": {
        "colab": {
          "base_uri": "https://localhost:8080/"
        },
        "id": "qhHoZ4Slt_K-",
        "outputId": "9d3d970b-2723-4692-de91-cba2b33635de"
      },
      "execution_count": null,
      "outputs": [
        {
          "output_type": "execute_result",
          "data": {
            "text/plain": [
              "tensor([0, 0, 0, 0, 0, 0, 0, 0, 0, 0])"
            ]
          },
          "metadata": {},
          "execution_count": 27
        }
      ]
    },
    {
      "cell_type": "code",
      "source": [
        "#Float 32 tensor\n",
        "#Tensor data type is one of the 3 big errors we'll run into usinf deep learning\n",
        "#the three errors are: shape, type and tensors not on the right device\n",
        "float_32_tensor = torch.tensor([3.0,6.0,9.0],\n",
        "                               dtype=None, #What data type is the tensor eg float16, float32 etc\n",
        "                               device=None, #\"cuda\" for GPU #what device is your tensor on\n",
        "                               requires_grad=False) #whether to track gradients with these tensors or not\n",
        "float_32_tensor"
      ],
      "metadata": {
        "colab": {
          "base_uri": "https://localhost:8080/"
        },
        "id": "VEEoPrcguq9G",
        "outputId": "7f687b8e-0253-4860-8c8f-5b0fa1ecb6c8"
      },
      "execution_count": null,
      "outputs": [
        {
          "output_type": "execute_result",
          "data": {
            "text/plain": [
              "tensor([3., 6., 9.])"
            ]
          },
          "metadata": {},
          "execution_count": 28
        }
      ]
    },
    {
      "cell_type": "code",
      "source": [
        "float_16_tensor = float_32_tensor.type(torch.float16)\n",
        "float_16_tensor"
      ],
      "metadata": {
        "colab": {
          "base_uri": "https://localhost:8080/"
        },
        "id": "UDNra3M-xafh",
        "outputId": "b523e610-3b34-4f3b-d724-4ca2bf3aca16"
      },
      "execution_count": null,
      "outputs": [
        {
          "output_type": "execute_result",
          "data": {
            "text/plain": [
              "tensor([3., 6., 9.], dtype=torch.float16)"
            ]
          },
          "metadata": {},
          "execution_count": 29
        }
      ]
    },
    {
      "cell_type": "code",
      "source": [
        "tensor_multiplied = float_16_tensor*float_32_tensor"
      ],
      "metadata": {
        "id": "DwxtrBaoyofx"
      },
      "execution_count": null,
      "outputs": []
    },
    {
      "cell_type": "code",
      "source": [
        "tensor_multiplied.dtype"
      ],
      "metadata": {
        "colab": {
          "base_uri": "https://localhost:8080/"
        },
        "id": "v8Bv4IKxy5ZE",
        "outputId": "f3aa5000-5606-4f72-8b57-1b107b60c0b0"
      },
      "execution_count": null,
      "outputs": [
        {
          "output_type": "execute_result",
          "data": {
            "text/plain": [
              "torch.float32"
            ]
          },
          "metadata": {},
          "execution_count": 31
        }
      ]
    },
    {
      "cell_type": "code",
      "source": [
        "#In order to se the errors in pytorch with tensor the. three checks are:\n",
        "#tensor.dtype.      tensor.device.      tensor.shape"
      ],
      "metadata": {
        "id": "DG8WNb-y_Tr4"
      },
      "execution_count": null,
      "outputs": []
    },
    {
      "cell_type": "code",
      "source": [
        "some_tensor = torch.rand(3,4)\n",
        "some_tensor"
      ],
      "metadata": {
        "colab": {
          "base_uri": "https://localhost:8080/"
        },
        "id": "MvdxGO1YAi6V",
        "outputId": "ae16ff62-2233-4156-b55e-efc25c0ea83d"
      },
      "execution_count": null,
      "outputs": [
        {
          "output_type": "execute_result",
          "data": {
            "text/plain": [
              "tensor([[0.7868, 0.0041, 0.5913, 0.5122],\n",
              "        [0.7238, 0.4808, 0.6362, 0.7717],\n",
              "        [0.9057, 0.6559, 0.4373, 0.4196]])"
            ]
          },
          "metadata": {},
          "execution_count": 33
        }
      ]
    },
    {
      "cell_type": "code",
      "source": [
        "print(some_tensor)\n",
        "print(f\"datatype:{some_tensor.type(torch.float16)}\")\n",
        "print(f\"shape:{some_tensor.shape}\")\n",
        "print(f\"device:{some_tensor.device}\")"
      ],
      "metadata": {
        "colab": {
          "base_uri": "https://localhost:8080/"
        },
        "id": "7dBe_1ekI7qt",
        "outputId": "d5992a79-b769-4780-c57e-9dd106626a44"
      },
      "execution_count": null,
      "outputs": [
        {
          "output_type": "stream",
          "name": "stdout",
          "text": [
            "tensor([[0.7868, 0.0041, 0.5913, 0.5122],\n",
            "        [0.7238, 0.4808, 0.6362, 0.7717],\n",
            "        [0.9057, 0.6559, 0.4373, 0.4196]])\n",
            "datatype:tensor([[0.7866, 0.0041, 0.5913, 0.5122],\n",
            "        [0.7236, 0.4807, 0.6362, 0.7715],\n",
            "        [0.9058, 0.6558, 0.4373, 0.4197]], dtype=torch.float16)\n",
            "shape:torch.Size([3, 4])\n",
            "device:cpu\n"
          ]
        }
      ]
    },
    {
      "cell_type": "code",
      "source": [
        "from torch.functional import Tensor\n",
        "#Manipulating tensors\n",
        "Tensor = torch.tensor([2,4,6])\n",
        "Tensor+50\n"
      ],
      "metadata": {
        "colab": {
          "base_uri": "https://localhost:8080/"
        },
        "id": "6_OJScjROWEQ",
        "outputId": "e72378af-a132-46f4-8244-5a7aa505455b"
      },
      "execution_count": null,
      "outputs": [
        {
          "output_type": "execute_result",
          "data": {
            "text/plain": [
              "tensor([52, 54, 56])"
            ]
          },
          "metadata": {},
          "execution_count": 35
        }
      ]
    },
    {
      "cell_type": "code",
      "source": [
        "Tensor-2"
      ],
      "metadata": {
        "colab": {
          "base_uri": "https://localhost:8080/"
        },
        "id": "4vWxKE_qYQwj",
        "outputId": "929e9933-236a-4ce5-8d73-aab983d57756"
      },
      "execution_count": null,
      "outputs": [
        {
          "output_type": "execute_result",
          "data": {
            "text/plain": [
              "tensor([0, 2, 4])"
            ]
          },
          "metadata": {},
          "execution_count": 36
        }
      ]
    },
    {
      "cell_type": "code",
      "source": [
        "Tensor*5"
      ],
      "metadata": {
        "colab": {
          "base_uri": "https://localhost:8080/"
        },
        "id": "IuodLa5HYU0v",
        "outputId": "ded1e0b7-f128-41f5-a836-2551309e3887"
      },
      "execution_count": null,
      "outputs": [
        {
          "output_type": "execute_result",
          "data": {
            "text/plain": [
              "tensor([10, 20, 30])"
            ]
          },
          "metadata": {},
          "execution_count": 37
        }
      ]
    },
    {
      "cell_type": "code",
      "source": [
        "#Try pytorch inbuilt\n",
        "torch.mul(Tensor,10)"
      ],
      "metadata": {
        "colab": {
          "base_uri": "https://localhost:8080/"
        },
        "id": "v1L50THwYXoj",
        "outputId": "3cb5300d-ff22-4b85-c8b5-a55405cf634c"
      },
      "execution_count": null,
      "outputs": [
        {
          "output_type": "execute_result",
          "data": {
            "text/plain": [
              "tensor([20, 40, 60])"
            ]
          },
          "metadata": {},
          "execution_count": 38
        }
      ]
    },
    {
      "cell_type": "code",
      "source": [
        "torch.add(Tensor,12)"
      ],
      "metadata": {
        "colab": {
          "base_uri": "https://localhost:8080/"
        },
        "id": "wUB6Zqw2Zg4n",
        "outputId": "58ef3da8-0e3d-411d-dea0-6b6ff734cf93"
      },
      "execution_count": null,
      "outputs": [
        {
          "output_type": "execute_result",
          "data": {
            "text/plain": [
              "tensor([14, 16, 18])"
            ]
          },
          "metadata": {},
          "execution_count": 39
        }
      ]
    },
    {
      "cell_type": "markdown",
      "source": [
        "**\n",
        "Matrix multiplication (is all you need)\n",
        "\n",
        "One of the most common operations in machine learning and deep learning algorithms (like neural networks) is matrix multiplication.\n",
        "\n",
        "PyTorch implements matrix multiplication functionality in the torch.matmul() method.\n",
        "\n",
        "The main two rules for matrix multiplication to remember are:\n",
        "\n",
        "The inner dimensions must match:\n",
        "(3, 2) @ (3, 2) won't work\n",
        "(2, 3) @ (3, 2) will work\n",
        "(3, 2) @ (2, 3) will work\n",
        "The resulting matrix has the shape of the outer dimensions:\n",
        "(2, 3) @ (3, 2) -> (2, 2)\n",
        "(3, 2) @ (2, 3) -> (3, 3)\n",
        "Note: \"@\" in Python is the symbol for matrix multiplication.\n",
        "\n",
        "Resource: You can see all of the rules for matrix multiplication using torch.matmul() in the PyTorch documentation.\n",
        "\n",
        "Let's create a tensor and perform element-wise multiplication and matrix multiplication on it. **"
      ],
      "metadata": {
        "id": "v6CP7XU-aPAi"
      }
    },
    {
      "cell_type": "code",
      "source": [
        "#Element wise multpilication\n",
        "Multip = Tensor * Tensor\n",
        "print(Tensor,\"*\", Tensor, \"=\", Multip)"
      ],
      "metadata": {
        "colab": {
          "base_uri": "https://localhost:8080/"
        },
        "id": "AxkVctM_aasu",
        "outputId": "4c378afa-e61a-4ddd-968b-c2a3542657fd"
      },
      "execution_count": null,
      "outputs": [
        {
          "output_type": "stream",
          "name": "stdout",
          "text": [
            "tensor([2, 4, 6]) * tensor([2, 4, 6]) = tensor([ 4, 16, 36])\n"
          ]
        }
      ]
    },
    {
      "cell_type": "code",
      "source": [
        "#Matrix multiplication\n",
        "%%time\n",
        "torch.matmul(Tensor,Tensor)"
      ],
      "metadata": {
        "colab": {
          "base_uri": "https://localhost:8080/"
        },
        "id": "26xIFc95dCEW",
        "outputId": "317b2b59-41a9-44bb-d080-840fe8842223"
      },
      "execution_count": null,
      "outputs": [
        {
          "output_type": "stream",
          "name": "stdout",
          "text": [
            "CPU times: user 110 µs, sys: 18 µs, total: 128 µs\n",
            "Wall time: 207 µs\n"
          ]
        },
        {
          "output_type": "execute_result",
          "data": {
            "text/plain": [
              "tensor(56)"
            ]
          },
          "metadata": {},
          "execution_count": 41
        }
      ]
    },
    {
      "cell_type": "code",
      "source": [
        "torch.matmul(torch.rand(2,3),torch.rand(3,3))\n",
        "#Matrix multiplication\n",
        "#Inner dimensions must match and resulting matrix has outer dimensions"
      ],
      "metadata": {
        "colab": {
          "base_uri": "https://localhost:8080/"
        },
        "id": "dgk0EXL_dj8V",
        "outputId": "aff2ff50-921a-4018-96f3-08459bce6c38"
      },
      "execution_count": null,
      "outputs": [
        {
          "output_type": "execute_result",
          "data": {
            "text/plain": [
              "tensor([[0.6489, 0.6971, 0.2676],\n",
              "        [0.9474, 0.9212, 0.6229]])"
            ]
          },
          "metadata": {},
          "execution_count": 42
        }
      ]
    },
    {
      "cell_type": "code",
      "source": [
        "#If shapes of tensors arent fixed we can take transpose of one or the other for multiplying:\n",
        "Tensor_A = torch.tensor([[1,2],[3,4],[5,6]])\n",
        "Tensor_B = torch.tensor([[7,10],[8,11],[9,12]])\n",
        "multiply_ = torch.matmul(Tensor_A,Tensor_B.T)\n",
        "multiply_"
      ],
      "metadata": {
        "colab": {
          "base_uri": "https://localhost:8080/"
        },
        "id": "wm2D346hdO-V",
        "outputId": "251937d5-e8e7-4b97-85a0-f71218b2dd49"
      },
      "execution_count": null,
      "outputs": [
        {
          "output_type": "execute_result",
          "data": {
            "text/plain": [
              "tensor([[ 27,  30,  33],\n",
              "        [ 61,  68,  75],\n",
              "        [ 95, 106, 117]])"
            ]
          },
          "metadata": {},
          "execution_count": 43
        }
      ]
    },
    {
      "cell_type": "code",
      "source": [
        "#Find min, max,mean, sum etc (tensor aggregation) Pytorch inbuilt functions\n",
        "x = torch.arange(0,10,2)\n",
        "\n",
        "\n",
        "x.max(), torch.max(x)"
      ],
      "metadata": {
        "colab": {
          "base_uri": "https://localhost:8080/"
        },
        "id": "zEBtGA5CumbB",
        "outputId": "49242847-cc1d-4416-949a-d14476d66814"
      },
      "execution_count": null,
      "outputs": [
        {
          "output_type": "execute_result",
          "data": {
            "text/plain": [
              "(tensor(8), tensor(8))"
            ]
          },
          "metadata": {},
          "execution_count": 44
        }
      ]
    },
    {
      "cell_type": "code",
      "source": [
        "x.min(), torch.min(x)"
      ],
      "metadata": {
        "colab": {
          "base_uri": "https://localhost:8080/"
        },
        "id": "quQcWA-i0L4I",
        "outputId": "2366f3c2-df36-47cb-a87b-07bf9e026e6b"
      },
      "execution_count": null,
      "outputs": [
        {
          "output_type": "execute_result",
          "data": {
            "text/plain": [
              "(tensor(0), tensor(0))"
            ]
          },
          "metadata": {},
          "execution_count": 45
        }
      ]
    },
    {
      "cell_type": "code",
      "source": [
        "x.type(torch.float16).mean()"
      ],
      "metadata": {
        "colab": {
          "base_uri": "https://localhost:8080/"
        },
        "id": "94M5iRTI0euV",
        "outputId": "36e0ff57-fe5d-4a4c-bc57-f66748772c0c"
      },
      "execution_count": null,
      "outputs": [
        {
          "output_type": "execute_result",
          "data": {
            "text/plain": [
              "tensor(4., dtype=torch.float16)"
            ]
          },
          "metadata": {},
          "execution_count": 46
        }
      ]
    },
    {
      "cell_type": "code",
      "source": [
        "x.sum()"
      ],
      "metadata": {
        "colab": {
          "base_uri": "https://localhost:8080/"
        },
        "id": "e4bjZabE0kgx",
        "outputId": "18b399e3-01ea-4ecd-a734-5eb470c0462c"
      },
      "execution_count": null,
      "outputs": [
        {
          "output_type": "execute_result",
          "data": {
            "text/plain": [
              "tensor(20)"
            ]
          },
          "metadata": {},
          "execution_count": 47
        }
      ]
    },
    {
      "cell_type": "code",
      "source": [
        "###Positional mean, max :argmin,argmax\n",
        "x.argmin() #find the position in tesnor that has a minimum value in that tensor --> returns the index value where minimum value occurs"
      ],
      "metadata": {
        "colab": {
          "base_uri": "https://localhost:8080/"
        },
        "id": "FjFY8akP0yAD",
        "outputId": "06f28f45-5fbf-40e5-ee9d-05f91d83a3d9"
      },
      "execution_count": null,
      "outputs": [
        {
          "output_type": "execute_result",
          "data": {
            "text/plain": [
              "tensor(0)"
            ]
          },
          "metadata": {},
          "execution_count": 48
        }
      ]
    },
    {
      "cell_type": "code",
      "source": [
        "x.argmax()"
      ],
      "metadata": {
        "colab": {
          "base_uri": "https://localhost:8080/"
        },
        "id": "DmjmML8R1VJy",
        "outputId": "0e423f0f-beaa-43e5-d8b4-3a1bf98ea2ef"
      },
      "execution_count": null,
      "outputs": [
        {
          "output_type": "execute_result",
          "data": {
            "text/plain": [
              "tensor(4)"
            ]
          },
          "metadata": {},
          "execution_count": 49
        }
      ]
    },
    {
      "cell_type": "code",
      "source": [
        "x"
      ],
      "metadata": {
        "colab": {
          "base_uri": "https://localhost:8080/"
        },
        "id": "tKNjQ4o-1t1N",
        "outputId": "a36bb89b-6742-4a7d-be3e-cce474f1778a"
      },
      "execution_count": null,
      "outputs": [
        {
          "output_type": "execute_result",
          "data": {
            "text/plain": [
              "tensor([0, 2, 4, 6, 8])"
            ]
          },
          "metadata": {},
          "execution_count": 50
        }
      ]
    },
    {
      "cell_type": "code",
      "source": [
        "x[4]"
      ],
      "metadata": {
        "colab": {
          "base_uri": "https://localhost:8080/"
        },
        "id": "-rAdTjHG1xPJ",
        "outputId": "268ba9cd-f991-43b1-8fa6-bb7471d6c4bf"
      },
      "execution_count": null,
      "outputs": [
        {
          "output_type": "execute_result",
          "data": {
            "text/plain": [
              "tensor(8)"
            ]
          },
          "metadata": {},
          "execution_count": 51
        }
      ]
    },
    {
      "cell_type": "code",
      "source": [
        "#Reshaping, stacking and viewing, squeezing and unsqueezing tensors\n"
      ],
      "metadata": {
        "id": "RvmTEcWe1008"
      },
      "execution_count": null,
      "outputs": []
    },
    {
      "cell_type": "markdown",
      "source": [
        "# Reshaping, stacking, squeezing and unsqueezing\n",
        "\n",
        "Often times you'll want to reshape or change the dimensions of your tensors without actually changing the values inside them.\n",
        "\n",
        "To do so, some popular methods are:\n",
        "\n",
        "Method\tOne-line description\n",
        "torch.reshape(input, shape)\tReshapes input to shape (if compatible), can also use torch.Tensor.reshape().\n",
        "torch.Tensor.view(shape)\tReturns a view of the original tensor in a different shape but shares the same data as the original tensor.\n",
        "torch.stack(tensors, dim=0)\tConcatenates a sequence of tensors along a new dimension (dim), all tensors must be same size.\n",
        "torch.squeeze(input)\tSqueezes input to remove all the dimenions with value 1.\n",
        "torch.unsqueeze(input, dim)\tReturns input with a dimension value of 1 added at dim.\n",
        "torch.permute(input, dims)\tReturns a view of the original input with its dimensions permuted (rearranged) to dims.\n",
        "Why do any of these?\n",
        "\n",
        "Because deep learning models (neural networks) are all about manipulating tensors in some way. And because of the rules of matrix multiplication, if you've got shape mismatches, you'll run into errors. These methods help you make the right elements of your tensors are mixing with the right elements of other tensors.\n",
        "\n",
        "Let's try them out.\n",
        "\n",
        "First, we'll create a tensor."
      ],
      "metadata": {
        "id": "wJMIgzxt4MPP"
      }
    },
    {
      "cell_type": "markdown",
      "source": [
        "# Reshaping - reshapes an input tensor to a defined shape\n",
        "• View - Return a view of an input tensor of certain shape but keep the same memory as the original tensor\n",
        "• Stacking - combine multiple tensors on top of each other (vstack) or side by side (hstack)\n",
        "• Squeeze - removes all 1 dimensions from a tensor\n",
        "• Unsqueeze - add a 1 dimension to a target tensor\n",
        "• Permute - Return a view of the input with dimensions permuted (swapped) in a certain"
      ],
      "metadata": {
        "id": "jgafw6_w5K_H"
      }
    },
    {
      "cell_type": "code",
      "source": [
        "y = torch.arange(1.,10)\n",
        "z = torch.arange(1.,11)\n",
        "y,z"
      ],
      "metadata": {
        "colab": {
          "base_uri": "https://localhost:8080/"
        },
        "id": "D7Yy0xlC5NfI",
        "outputId": "0a5cf5d8-5d44-46a9-f090-e0bd59e304b1"
      },
      "execution_count": null,
      "outputs": [
        {
          "output_type": "execute_result",
          "data": {
            "text/plain": [
              "(tensor([1., 2., 3., 4., 5., 6., 7., 8., 9.]),\n",
              " tensor([ 1.,  2.,  3.,  4.,  5.,  6.,  7.,  8.,  9., 10.]))"
            ]
          },
          "metadata": {},
          "execution_count": 53
        }
      ]
    },
    {
      "cell_type": "code",
      "source": [
        "y_reshaped = y.reshape(1,9)\n",
        "z_reshaped = z.reshape(2,5)\n",
        "y_reshaped, z_reshaped"
      ],
      "metadata": {
        "colab": {
          "base_uri": "https://localhost:8080/"
        },
        "id": "KzOBVQDZ6Woc",
        "outputId": "8c00a209-2a19-4072-b759-092f8377a572"
      },
      "execution_count": null,
      "outputs": [
        {
          "output_type": "execute_result",
          "data": {
            "text/plain": [
              "(tensor([[1., 2., 3., 4., 5., 6., 7., 8., 9.]]),\n",
              " tensor([[ 1.,  2.,  3.,  4.,  5.],\n",
              "         [ 6.,  7.,  8.,  9., 10.]]))"
            ]
          },
          "metadata": {},
          "execution_count": 54
        }
      ]
    },
    {
      "cell_type": "code",
      "source": [
        "y_reshape = y.reshape(9,1)\n",
        "z_reshape = z.reshape(5,2)\n",
        "y_reshape, z_reshape"
      ],
      "metadata": {
        "colab": {
          "base_uri": "https://localhost:8080/"
        },
        "id": "zjxVN_gv6d7K",
        "outputId": "6bf05b21-9313-486f-8086-51e2ce68b131"
      },
      "execution_count": null,
      "outputs": [
        {
          "output_type": "execute_result",
          "data": {
            "text/plain": [
              "(tensor([[1.],\n",
              "         [2.],\n",
              "         [3.],\n",
              "         [4.],\n",
              "         [5.],\n",
              "         [6.],\n",
              "         [7.],\n",
              "         [8.],\n",
              "         [9.]]),\n",
              " tensor([[ 1.,  2.],\n",
              "         [ 3.,  4.],\n",
              "         [ 5.,  6.],\n",
              "         [ 7.,  8.],\n",
              "         [ 9., 10.]]))"
            ]
          },
          "metadata": {},
          "execution_count": 55
        }
      ]
    },
    {
      "cell_type": "code",
      "source": [
        "#VIEW\n",
        "s = y.view(1,9)\n",
        "s, s.shape"
      ],
      "metadata": {
        "colab": {
          "base_uri": "https://localhost:8080/"
        },
        "id": "Im8Arcil6oCt",
        "outputId": "ad6982b0-08f6-4fcb-fd7a-c71c7089c0c8"
      },
      "execution_count": null,
      "outputs": [
        {
          "output_type": "execute_result",
          "data": {
            "text/plain": [
              "(tensor([[1., 2., 3., 4., 5., 6., 7., 8., 9.]]), torch.Size([1, 9]))"
            ]
          },
          "metadata": {},
          "execution_count": 56
        }
      ]
    },
    {
      "cell_type": "code",
      "source": [
        "s[:,0]=5 #changing first element of z which is a view of y\n",
        "s,y"
      ],
      "metadata": {
        "colab": {
          "base_uri": "https://localhost:8080/"
        },
        "id": "D05a0UJMTbDq",
        "outputId": "8528b0e7-3f2a-4f01-db41-2480b00089aa"
      },
      "execution_count": null,
      "outputs": [
        {
          "output_type": "execute_result",
          "data": {
            "text/plain": [
              "(tensor([[5., 2., 3., 4., 5., 6., 7., 8., 9.]]),\n",
              " tensor([5., 2., 3., 4., 5., 6., 7., 8., 9.]))"
            ]
          },
          "metadata": {},
          "execution_count": 57
        }
      ]
    },
    {
      "cell_type": "code",
      "source": [
        "#stacking tensors on top of each other\n",
        "y_stack = torch.stack([y,y,y],dim=0)\n",
        "y_stack, y_stack.shape"
      ],
      "metadata": {
        "colab": {
          "base_uri": "https://localhost:8080/"
        },
        "id": "IPxh9aeHUOIy",
        "outputId": "dbbd3a66-0c0e-40fc-a90d-38bbfca21ee6"
      },
      "execution_count": null,
      "outputs": [
        {
          "output_type": "execute_result",
          "data": {
            "text/plain": [
              "(tensor([[5., 2., 3., 4., 5., 6., 7., 8., 9.],\n",
              "         [5., 2., 3., 4., 5., 6., 7., 8., 9.],\n",
              "         [5., 2., 3., 4., 5., 6., 7., 8., 9.]]),\n",
              " torch.Size([3, 9]))"
            ]
          },
          "metadata": {},
          "execution_count": 58
        }
      ]
    },
    {
      "cell_type": "code",
      "source": [
        "y_stack = torch.stack([y,y,y],dim=1)\n",
        "y_stack,y_stack.shape"
      ],
      "metadata": {
        "colab": {
          "base_uri": "https://localhost:8080/"
        },
        "id": "MMutHNHVW-n1",
        "outputId": "90daff5e-df98-4cef-ef5b-2034cb930813"
      },
      "execution_count": null,
      "outputs": [
        {
          "output_type": "execute_result",
          "data": {
            "text/plain": [
              "(tensor([[5., 5., 5.],\n",
              "         [2., 2., 2.],\n",
              "         [3., 3., 3.],\n",
              "         [4., 4., 4.],\n",
              "         [5., 5., 5.],\n",
              "         [6., 6., 6.],\n",
              "         [7., 7., 7.],\n",
              "         [8., 8., 8.],\n",
              "         [9., 9., 9.]]),\n",
              " torch.Size([9, 3]))"
            ]
          },
          "metadata": {},
          "execution_count": 59
        }
      ]
    },
    {
      "cell_type": "code",
      "source": [
        "#SQUEEZE\n",
        "#Removes all single dimensions from a tensor\n",
        "\n",
        "r = y_reshape.squeeze()\n",
        "r, r.shape, y_reshape.shape, y_reshape\n"
      ],
      "metadata": {
        "colab": {
          "base_uri": "https://localhost:8080/"
        },
        "id": "SgDK5MkFXD4J",
        "outputId": "ba12d26a-05e6-4bef-b89d-42695933efa4"
      },
      "execution_count": null,
      "outputs": [
        {
          "output_type": "execute_result",
          "data": {
            "text/plain": [
              "(tensor([5., 2., 3., 4., 5., 6., 7., 8., 9.]),\n",
              " torch.Size([9]),\n",
              " torch.Size([9, 1]),\n",
              " tensor([[5.],\n",
              "         [2.],\n",
              "         [3.],\n",
              "         [4.],\n",
              "         [5.],\n",
              "         [6.],\n",
              "         [7.],\n",
              "         [8.],\n",
              "         [9.]]))"
            ]
          },
          "metadata": {},
          "execution_count": 60
        }
      ]
    },
    {
      "cell_type": "code",
      "source": [
        "#UNSQUEEZE\n",
        "#Adds an extra dimension to a tensor\n",
        "u= z_reshape.unsqueeze(dim=0)\n",
        "\n",
        "print(\"originals\")\n",
        "z_reshape, z_reshape.shape,u,u.shape\n"
      ],
      "metadata": {
        "colab": {
          "base_uri": "https://localhost:8080/"
        },
        "id": "aKJ9NqtDYT63",
        "outputId": "5a587acb-541b-4a7e-cdd1-fa73b485af7b"
      },
      "execution_count": null,
      "outputs": [
        {
          "output_type": "stream",
          "name": "stdout",
          "text": [
            "originals\n"
          ]
        },
        {
          "output_type": "execute_result",
          "data": {
            "text/plain": [
              "(tensor([[ 1.,  2.],\n",
              "         [ 3.,  4.],\n",
              "         [ 5.,  6.],\n",
              "         [ 7.,  8.],\n",
              "         [ 9., 10.]]),\n",
              " torch.Size([5, 2]),\n",
              " tensor([[[ 1.,  2.],\n",
              "          [ 3.,  4.],\n",
              "          [ 5.,  6.],\n",
              "          [ 7.,  8.],\n",
              "          [ 9., 10.]]]),\n",
              " torch.Size([1, 5, 2]))"
            ]
          },
          "metadata": {},
          "execution_count": 61
        }
      ]
    },
    {
      "cell_type": "code",
      "source": [
        "u= z_reshape.unsqueeze(dim=1)\n",
        "\n",
        "print(\"originals\")\n",
        "z_reshape, z_reshape.shape,u,u.shape"
      ],
      "metadata": {
        "colab": {
          "base_uri": "https://localhost:8080/"
        },
        "id": "kL-6mEtWZp7e",
        "outputId": "60d0a4f8-0edd-49d0-caa8-8c49babab5d4"
      },
      "execution_count": null,
      "outputs": [
        {
          "output_type": "stream",
          "name": "stdout",
          "text": [
            "originals\n"
          ]
        },
        {
          "output_type": "execute_result",
          "data": {
            "text/plain": [
              "(tensor([[ 1.,  2.],\n",
              "         [ 3.,  4.],\n",
              "         [ 5.,  6.],\n",
              "         [ 7.,  8.],\n",
              "         [ 9., 10.]]),\n",
              " torch.Size([5, 2]),\n",
              " tensor([[[ 1.,  2.]],\n",
              " \n",
              "         [[ 3.,  4.]],\n",
              " \n",
              "         [[ 5.,  6.]],\n",
              " \n",
              "         [[ 7.,  8.]],\n",
              " \n",
              "         [[ 9., 10.]]]),\n",
              " torch.Size([5, 1, 2]))"
            ]
          },
          "metadata": {},
          "execution_count": 62
        }
      ]
    },
    {
      "cell_type": "code",
      "source": [
        "#Permute tensors change them in a specific order\n",
        "tensor = torch.rand(size=(224,224,3))\n",
        "\n",
        "permute_tensor = torch.permute(tensor, dims=(2,1,0))\n",
        "tensor.shape, tensor,permute_tensor, permute_tensor.shape"
      ],
      "metadata": {
        "colab": {
          "base_uri": "https://localhost:8080/"
        },
        "id": "rn0XdzpucfUg",
        "outputId": "2418f1b6-a765-48f3-91df-c560e29beb77"
      },
      "execution_count": null,
      "outputs": [
        {
          "output_type": "execute_result",
          "data": {
            "text/plain": [
              "(torch.Size([224, 224, 3]),\n",
              " tensor([[[0.9628, 0.7707, 0.4041],\n",
              "          [0.3609, 0.7118, 0.3614],\n",
              "          [0.0920, 0.9029, 0.4201],\n",
              "          ...,\n",
              "          [0.1462, 0.8871, 0.3171],\n",
              "          [0.1248, 0.6544, 0.2217],\n",
              "          [0.1512, 0.6111, 0.8219]],\n",
              " \n",
              "         [[0.3534, 0.2691, 0.3741],\n",
              "          [0.3502, 0.2797, 0.4648],\n",
              "          [0.5090, 0.1508, 0.6349],\n",
              "          ...,\n",
              "          [0.5355, 0.7920, 0.4810],\n",
              "          [0.3763, 0.4847, 0.9869],\n",
              "          [0.3744, 0.9557, 0.0256]],\n",
              " \n",
              "         [[0.2108, 0.7813, 0.7062],\n",
              "          [0.1175, 0.7360, 0.2104],\n",
              "          [0.7584, 0.3968, 0.2733],\n",
              "          ...,\n",
              "          [0.5096, 0.3694, 0.3127],\n",
              "          [0.1404, 0.0018, 0.0194],\n",
              "          [0.3691, 0.7847, 0.8312]],\n",
              " \n",
              "         ...,\n",
              " \n",
              "         [[0.6500, 0.5618, 0.5761],\n",
              "          [0.3642, 0.0350, 0.1505],\n",
              "          [0.0090, 0.6837, 0.3353],\n",
              "          ...,\n",
              "          [0.1643, 0.1914, 0.3427],\n",
              "          [0.1889, 0.4993, 0.0244],\n",
              "          [0.5029, 0.4150, 0.2612]],\n",
              " \n",
              "         [[0.9436, 0.0411, 0.4308],\n",
              "          [0.7798, 0.8456, 0.3633],\n",
              "          [0.5022, 0.9148, 0.8365],\n",
              "          ...,\n",
              "          [0.1222, 0.8432, 0.2535],\n",
              "          [0.1569, 0.8360, 0.6640],\n",
              "          [0.8283, 0.4550, 0.8018]],\n",
              " \n",
              "         [[0.5618, 0.0797, 0.9213],\n",
              "          [0.0763, 0.1101, 0.1716],\n",
              "          [0.9656, 0.4627, 0.6891],\n",
              "          ...,\n",
              "          [0.3167, 0.2653, 0.4170],\n",
              "          [0.1581, 0.9795, 0.5974],\n",
              "          [0.2419, 0.7049, 0.3011]]]),\n",
              " tensor([[[0.9628, 0.3534, 0.2108,  ..., 0.6500, 0.9436, 0.5618],\n",
              "          [0.3609, 0.3502, 0.1175,  ..., 0.3642, 0.7798, 0.0763],\n",
              "          [0.0920, 0.5090, 0.7584,  ..., 0.0090, 0.5022, 0.9656],\n",
              "          ...,\n",
              "          [0.1462, 0.5355, 0.5096,  ..., 0.1643, 0.1222, 0.3167],\n",
              "          [0.1248, 0.3763, 0.1404,  ..., 0.1889, 0.1569, 0.1581],\n",
              "          [0.1512, 0.3744, 0.3691,  ..., 0.5029, 0.8283, 0.2419]],\n",
              " \n",
              "         [[0.7707, 0.2691, 0.7813,  ..., 0.5618, 0.0411, 0.0797],\n",
              "          [0.7118, 0.2797, 0.7360,  ..., 0.0350, 0.8456, 0.1101],\n",
              "          [0.9029, 0.1508, 0.3968,  ..., 0.6837, 0.9148, 0.4627],\n",
              "          ...,\n",
              "          [0.8871, 0.7920, 0.3694,  ..., 0.1914, 0.8432, 0.2653],\n",
              "          [0.6544, 0.4847, 0.0018,  ..., 0.4993, 0.8360, 0.9795],\n",
              "          [0.6111, 0.9557, 0.7847,  ..., 0.4150, 0.4550, 0.7049]],\n",
              " \n",
              "         [[0.4041, 0.3741, 0.7062,  ..., 0.5761, 0.4308, 0.9213],\n",
              "          [0.3614, 0.4648, 0.2104,  ..., 0.1505, 0.3633, 0.1716],\n",
              "          [0.4201, 0.6349, 0.2733,  ..., 0.3353, 0.8365, 0.6891],\n",
              "          ...,\n",
              "          [0.3171, 0.4810, 0.3127,  ..., 0.3427, 0.2535, 0.4170],\n",
              "          [0.2217, 0.9869, 0.0194,  ..., 0.0244, 0.6640, 0.5974],\n",
              "          [0.8219, 0.0256, 0.8312,  ..., 0.2612, 0.8018, 0.3011]]]),\n",
              " torch.Size([3, 224, 224]))"
            ]
          },
          "metadata": {},
          "execution_count": 63
        }
      ]
    },
    {
      "cell_type": "code",
      "source": [
        "tensor[0,0,0] = 0.1000\n",
        "tensor"
      ],
      "metadata": {
        "colab": {
          "base_uri": "https://localhost:8080/"
        },
        "id": "QaKrsHOsf-Cg",
        "outputId": "4586da1d-353e-4b61-bc7d-67a0a04cbdc0"
      },
      "execution_count": null,
      "outputs": [
        {
          "output_type": "execute_result",
          "data": {
            "text/plain": [
              "tensor([[[0.1000, 0.7707, 0.4041],\n",
              "         [0.3609, 0.7118, 0.3614],\n",
              "         [0.0920, 0.9029, 0.4201],\n",
              "         ...,\n",
              "         [0.1462, 0.8871, 0.3171],\n",
              "         [0.1248, 0.6544, 0.2217],\n",
              "         [0.1512, 0.6111, 0.8219]],\n",
              "\n",
              "        [[0.3534, 0.2691, 0.3741],\n",
              "         [0.3502, 0.2797, 0.4648],\n",
              "         [0.5090, 0.1508, 0.6349],\n",
              "         ...,\n",
              "         [0.5355, 0.7920, 0.4810],\n",
              "         [0.3763, 0.4847, 0.9869],\n",
              "         [0.3744, 0.9557, 0.0256]],\n",
              "\n",
              "        [[0.2108, 0.7813, 0.7062],\n",
              "         [0.1175, 0.7360, 0.2104],\n",
              "         [0.7584, 0.3968, 0.2733],\n",
              "         ...,\n",
              "         [0.5096, 0.3694, 0.3127],\n",
              "         [0.1404, 0.0018, 0.0194],\n",
              "         [0.3691, 0.7847, 0.8312]],\n",
              "\n",
              "        ...,\n",
              "\n",
              "        [[0.6500, 0.5618, 0.5761],\n",
              "         [0.3642, 0.0350, 0.1505],\n",
              "         [0.0090, 0.6837, 0.3353],\n",
              "         ...,\n",
              "         [0.1643, 0.1914, 0.3427],\n",
              "         [0.1889, 0.4993, 0.0244],\n",
              "         [0.5029, 0.4150, 0.2612]],\n",
              "\n",
              "        [[0.9436, 0.0411, 0.4308],\n",
              "         [0.7798, 0.8456, 0.3633],\n",
              "         [0.5022, 0.9148, 0.8365],\n",
              "         ...,\n",
              "         [0.1222, 0.8432, 0.2535],\n",
              "         [0.1569, 0.8360, 0.6640],\n",
              "         [0.8283, 0.4550, 0.8018]],\n",
              "\n",
              "        [[0.5618, 0.0797, 0.9213],\n",
              "         [0.0763, 0.1101, 0.1716],\n",
              "         [0.9656, 0.4627, 0.6891],\n",
              "         ...,\n",
              "         [0.3167, 0.2653, 0.4170],\n",
              "         [0.1581, 0.9795, 0.5974],\n",
              "         [0.2419, 0.7049, 0.3011]]])"
            ]
          },
          "metadata": {},
          "execution_count": 64
        }
      ]
    },
    {
      "cell_type": "code",
      "source": [
        "#Indexing with pytorch\n",
        "example = torch.arange(1,11).reshape(1,2,5)\n",
        "example, example.shape"
      ],
      "metadata": {
        "colab": {
          "base_uri": "https://localhost:8080/"
        },
        "id": "bChwMUqohxeu",
        "outputId": "b75790de-fa4c-4cb2-ae04-f14fe9263657"
      },
      "execution_count": null,
      "outputs": [
        {
          "output_type": "execute_result",
          "data": {
            "text/plain": [
              "(tensor([[[ 1,  2,  3,  4,  5],\n",
              "          [ 6,  7,  8,  9, 10]]]),\n",
              " torch.Size([1, 2, 5]))"
            ]
          },
          "metadata": {},
          "execution_count": 65
        }
      ]
    },
    {
      "cell_type": "code",
      "source": [
        "#Let's index on our new tensor\n",
        "example,example[0]"
      ],
      "metadata": {
        "colab": {
          "base_uri": "https://localhost:8080/"
        },
        "id": "ssQf_cMukwYU",
        "outputId": "9b1f44f7-3c99-4ae1-d5d6-9845b1970a96"
      },
      "execution_count": null,
      "outputs": [
        {
          "output_type": "execute_result",
          "data": {
            "text/plain": [
              "(tensor([[[ 1,  2,  3,  4,  5],\n",
              "          [ 6,  7,  8,  9, 10]]]),\n",
              " tensor([[ 1,  2,  3,  4,  5],\n",
              "         [ 6,  7,  8,  9, 10]]))"
            ]
          },
          "metadata": {},
          "execution_count": 66
        }
      ]
    },
    {
      "cell_type": "code",
      "source": [
        "example[0][0]"
      ],
      "metadata": {
        "colab": {
          "base_uri": "https://localhost:8080/"
        },
        "id": "xHCrMsEek7Rz",
        "outputId": "8fd0f5c0-77a1-4c05-f75b-13f3544bb422"
      },
      "execution_count": null,
      "outputs": [
        {
          "output_type": "execute_result",
          "data": {
            "text/plain": [
              "tensor([1, 2, 3, 4, 5])"
            ]
          },
          "metadata": {},
          "execution_count": 67
        }
      ]
    },
    {
      "cell_type": "code",
      "source": [
        "example[0][0][0]"
      ],
      "metadata": {
        "colab": {
          "base_uri": "https://localhost:8080/"
        },
        "id": "JdzV30VJlAO4",
        "outputId": "de044497-0cf9-4b02-fb91-accab717b498"
      },
      "execution_count": null,
      "outputs": [
        {
          "output_type": "execute_result",
          "data": {
            "text/plain": [
              "tensor(1)"
            ]
          },
          "metadata": {},
          "execution_count": 68
        }
      ]
    },
    {
      "cell_type": "code",
      "source": [
        "example[0][1][3]"
      ],
      "metadata": {
        "colab": {
          "base_uri": "https://localhost:8080/"
        },
        "id": "6-FjjyaslLT1",
        "outputId": "ea2748b0-d0da-49cc-e1c7-8a5c6d1d6658"
      },
      "execution_count": null,
      "outputs": [
        {
          "output_type": "execute_result",
          "data": {
            "text/plain": [
              "tensor(9)"
            ]
          },
          "metadata": {},
          "execution_count": 69
        }
      ]
    },
    {
      "cell_type": "code",
      "source": [
        "example[:,:,1]"
      ],
      "metadata": {
        "colab": {
          "base_uri": "https://localhost:8080/"
        },
        "id": "SxNEVerkleEu",
        "outputId": "71b3169f-7547-424c-e47a-5d7453b946dc"
      },
      "execution_count": null,
      "outputs": [
        {
          "output_type": "execute_result",
          "data": {
            "text/plain": [
              "tensor([[2, 7]])"
            ]
          },
          "metadata": {},
          "execution_count": 70
        }
      ]
    },
    {
      "cell_type": "code",
      "source": [
        "example[:,1,3]"
      ],
      "metadata": {
        "colab": {
          "base_uri": "https://localhost:8080/"
        },
        "id": "8_Oqka5rnIBp",
        "outputId": "8547a7c7-9580-4bce-c925-af1b63a2320e"
      },
      "execution_count": null,
      "outputs": [
        {
          "output_type": "execute_result",
          "data": {
            "text/plain": [
              "tensor([9])"
            ]
          },
          "metadata": {},
          "execution_count": 71
        }
      ]
    },
    {
      "cell_type": "markdown",
      "source": [
        "# **NUMPY TO TENSOR**\n",
        "\n"
      ],
      "metadata": {
        "id": "fCRgaa70owry"
      }
    },
    {
      "cell_type": "code",
      "source": [
        "import numpy as np\n",
        "import torch"
      ],
      "metadata": {
        "id": "xcxJiquSo9dw"
      },
      "execution_count": null,
      "outputs": []
    },
    {
      "cell_type": "code",
      "source": [
        "array = np.arange(0.0,8.0)\n",
        "\n",
        "tensor = torch.from_numpy(array)\n",
        "array =array+1\n",
        "array, tensor"
      ],
      "metadata": {
        "colab": {
          "base_uri": "https://localhost:8080/"
        },
        "id": "7oIypllZqEbj",
        "outputId": "3a2559cd-8907-4563-9543-9793e9635ede"
      },
      "execution_count": null,
      "outputs": [
        {
          "output_type": "execute_result",
          "data": {
            "text/plain": [
              "(array([1., 2., 3., 4., 5., 6., 7., 8.]),\n",
              " tensor([0., 1., 2., 3., 4., 5., 6., 7.], dtype=torch.float64))"
            ]
          },
          "metadata": {},
          "execution_count": 73
        }
      ]
    },
    {
      "cell_type": "markdown",
      "source": [
        "*the default datatype for numpy is float 64 whereas for tensor is float 32*"
      ],
      "metadata": {
        "id": "tjFoavr2qVU3"
      }
    },
    {
      "cell_type": "markdown",
      "source": [
        "# **Tensor** to **numpy**"
      ],
      "metadata": {
        "id": "6AODWcaNrJ2H"
      }
    },
    {
      "cell_type": "code",
      "source": [
        "tensor = torch.ones(7)\n",
        "numpy_tensor = tensor.numpy()\n",
        "tensor, numpy_tensor"
      ],
      "metadata": {
        "colab": {
          "base_uri": "https://localhost:8080/"
        },
        "id": "-aIByLZYrTnb",
        "outputId": "68f51358-eeaf-4990-ff4e-821ece4b2684"
      },
      "execution_count": null,
      "outputs": [
        {
          "output_type": "execute_result",
          "data": {
            "text/plain": [
              "(tensor([1., 1., 1., 1., 1., 1., 1.]),\n",
              " array([1., 1., 1., 1., 1., 1., 1.], dtype=float32))"
            ]
          },
          "metadata": {},
          "execution_count": 74
        }
      ]
    },
    {
      "cell_type": "code",
      "source": [
        "tensor=tensor+1\n",
        "#numpy_tensor =tensor.numpy()\n",
        "tensor, numpy_tensor"
      ],
      "metadata": {
        "colab": {
          "base_uri": "https://localhost:8080/"
        },
        "id": "99KGuLzYrcAa",
        "outputId": "dd483223-a5ae-4ea2-a4bc-076948d99d61"
      },
      "execution_count": null,
      "outputs": [
        {
          "output_type": "execute_result",
          "data": {
            "text/plain": [
              "(tensor([2., 2., 2., 2., 2., 2., 2.]),\n",
              " array([1., 1., 1., 1., 1., 1., 1.], dtype=float32))"
            ]
          },
          "metadata": {},
          "execution_count": 75
        }
      ]
    },
    {
      "cell_type": "markdown",
      "source": [
        "# As you learn more about neural networks and machine learning, you'll start to discover how much randomness plays a part.\n",
        "\n",
        "Well, pseudorandomness that is. Because after all, as they're designed, a computer is fundamentally deterministic (each step is predictable) so the randomness they create are simulated randomness (though there is debate on this too, but since I'm not a computer scientist, I'll let you find out more yourself).\n",
        "\n",
        "How does this relate to neural networks and deep learning then?\n",
        "\n",
        "We've discussed neural networks start with random numbers to describe patterns in data (these numbers are poor descriptions) and try to improve those random numbers using tensor operations (and a few other things we haven't discussed yet) to better describe patterns in data.\n",
        "\n",
        "In short:\n",
        "\n",
        "start with random numbers -> tensor operations -> try to make better (again and again and again)\n",
        "\n",
        "Although randomness is nice and powerful, sometimes you'd like there to be a little less randomness.\n",
        "\n",
        "Why?\n",
        "\n",
        "So you can perform repeatable experiments.\n",
        "\n",
        "For example, you create an algorithm capable of achieving X performance.\n",
        "\n",
        "And then your friend tries it out to verify you're not crazy.\n",
        "\n",
        "How could they do such a thing?\n",
        "\n",
        "That's where reproducibility comes in.\n",
        "\n",
        "In other words, can you get the same (or very similar) results on your computer running the same code as I get on mine?\n",
        "\n",
        "Let's see a brief example of reproducibility in PyTorch.\n",
        "\n",
        "We'll start by creating two random tensors, since they're random, you'd expect them to be different right?"
      ],
      "metadata": {
        "id": "bRJiq09yPTzo"
      }
    },
    {
      "cell_type": "code",
      "source": [
        "random_tensorA = torch.rand(3,4)\n",
        "random_tensorB = torch.rand(3,4)\n",
        "print(random_tensorA)\n",
        "print(random_tensorB)\n",
        "print(random_tensorA==random_tensorB)"
      ],
      "metadata": {
        "colab": {
          "base_uri": "https://localhost:8080/"
        },
        "id": "30BR_rmbVmju",
        "outputId": "cd1ed611-3205-47ab-b1b8-45872f792e9f"
      },
      "execution_count": null,
      "outputs": [
        {
          "output_type": "stream",
          "name": "stdout",
          "text": [
            "tensor([[0.0603, 0.7702, 0.2177, 0.6321],\n",
            "        [0.7797, 0.6542, 0.3602, 0.9754],\n",
            "        [0.1280, 0.7395, 0.6418, 0.6592]])\n",
            "tensor([[0.8680, 0.4759, 0.3721, 0.7567],\n",
            "        [0.3637, 0.7620, 0.1086, 0.8564],\n",
            "        [0.7269, 0.6518, 0.3446, 0.3890]])\n",
            "tensor([[False, False, False, False],\n",
            "        [False, False, False, False],\n",
            "        [False, False, False, False]])\n"
          ]
        }
      ]
    },
    {
      "cell_type": "code",
      "source": [
        "#random but reproducible tensors\n",
        "#Set the random seed\n",
        "Random_seed = 42 #could be 77, 0 ,1234\n",
        "torch.manual_seed(Random_seed)\n",
        "random_tensorC = torch.rand(3,4)\n",
        "torch.manual_seed(Random_seed)\n",
        "random_tensorD = torch.rand(3,4)\n",
        "print(random_tensorC)\n",
        "print(random_tensorD)\n",
        "print(random_tensorC==random_tensorD)\n"
      ],
      "metadata": {
        "colab": {
          "base_uri": "https://localhost:8080/"
        },
        "id": "iMapg9tJVpFw",
        "outputId": "183c655f-58f9-4802-fa31-f124e91fbca5"
      },
      "execution_count": null,
      "outputs": [
        {
          "output_type": "stream",
          "name": "stdout",
          "text": [
            "tensor([[0.8823, 0.9150, 0.3829, 0.9593],\n",
            "        [0.3904, 0.6009, 0.2566, 0.7936],\n",
            "        [0.9408, 0.1332, 0.9346, 0.5936]])\n",
            "tensor([[0.8823, 0.9150, 0.3829, 0.9593],\n",
            "        [0.3904, 0.6009, 0.2566, 0.7936],\n",
            "        [0.9408, 0.1332, 0.9346, 0.5936]])\n",
            "tensor([[True, True, True, True],\n",
            "        [True, True, True, True],\n",
            "        [True, True, True, True]])\n"
          ]
        }
      ]
    },
    {
      "cell_type": "code",
      "source": [
        "#Running tensors and pytorch on the GPUs\n",
        "#GPUs = faster computation on numbers, thanKs to CUDA, NVIDIA hardware+pytorch working behind\n",
        "torch.cuda.is_available()"
      ],
      "metadata": {
        "colab": {
          "base_uri": "https://localhost:8080/"
        },
        "id": "OTu7bWpggnIz",
        "outputId": "795644c5-0b4e-4669-8b94-3cd3738bca6f"
      },
      "execution_count": null,
      "outputs": [
        {
          "output_type": "execute_result",
          "data": {
            "text/plain": [
              "True"
            ]
          },
          "metadata": {},
          "execution_count": 78
        }
      ]
    },
    {
      "cell_type": "code",
      "source": [
        "device = \"cuda\" if torch.cuda.is_available() else \"cpu\"\n",
        "device"
      ],
      "metadata": {
        "colab": {
          "base_uri": "https://localhost:8080/",
          "height": 37
        },
        "id": "iYzsBDFIinjG",
        "outputId": "47a99917-ff89-479f-fe66-c462ef21fae6"
      },
      "execution_count": null,
      "outputs": [
        {
          "output_type": "execute_result",
          "data": {
            "text/plain": [
              "'cuda'"
            ],
            "application/vnd.google.colaboratory.intrinsic+json": {
              "type": "string"
            }
          },
          "metadata": {},
          "execution_count": 79
        }
      ]
    },
    {
      "cell_type": "code",
      "source": [
        "#Count number of devices\n",
        "torch.cuda.device_count()"
      ],
      "metadata": {
        "colab": {
          "base_uri": "https://localhost:8080/"
        },
        "id": "bH7UKgkSlVPZ",
        "outputId": "97aa6b3c-e21c-4074-bb29-256cf4b9bef7"
      },
      "execution_count": null,
      "outputs": [
        {
          "output_type": "execute_result",
          "data": {
            "text/plain": [
              "1"
            ]
          },
          "metadata": {},
          "execution_count": 80
        }
      ]
    },
    {
      "cell_type": "code",
      "source": [
        "#Let's use GPU , putting tensors and models on GPU\n",
        "tensor = torch.tensor([1,2,3])\n",
        "tensor.device"
      ],
      "metadata": {
        "colab": {
          "base_uri": "https://localhost:8080/"
        },
        "id": "5PlsByG0lcH0",
        "outputId": "8d75f907-7059-4adb-b6a8-40742f97bdda"
      },
      "execution_count": null,
      "outputs": [
        {
          "output_type": "execute_result",
          "data": {
            "text/plain": [
              "device(type='cpu')"
            ]
          },
          "metadata": {},
          "execution_count": 81
        }
      ]
    },
    {
      "cell_type": "code",
      "source": [
        "tensor_on_gpu = tensor.to(device)\n",
        "tensor_on_gpu"
      ],
      "metadata": {
        "colab": {
          "base_uri": "https://localhost:8080/"
        },
        "id": "5Uusx2QvoeVt",
        "outputId": "1450cd76-b0ee-4ad2-b7e2-114d97ee5737"
      },
      "execution_count": null,
      "outputs": [
        {
          "output_type": "execute_result",
          "data": {
            "text/plain": [
              "tensor([1, 2, 3], device='cuda:0')"
            ]
          },
          "metadata": {},
          "execution_count": 82
        }
      ]
    },
    {
      "cell_type": "code",
      "source": [
        "#Moving tensors back to cpu\n",
        "#However if device is gpu we cant use it convert to numpy array, that part is done in cpu\n",
        "#so to do that you convert tensor in cpu to numpy then back to gpu\n",
        "tensor_on_cpu = tensor_on_gpu.cpu().numpy()\n",
        "tensor_on_cpu"
      ],
      "metadata": {
        "colab": {
          "base_uri": "https://localhost:8080/"
        },
        "id": "mHASubuxouHE",
        "outputId": "331ac322-351e-4183-e112-079281d0440f"
      },
      "execution_count": null,
      "outputs": [
        {
          "output_type": "execute_result",
          "data": {
            "text/plain": [
              "array([1, 2, 3])"
            ]
          },
          "metadata": {},
          "execution_count": 83
        }
      ]
    },
    {
      "cell_type": "code",
      "source": [
        "tensor_on_gpu.device\n"
      ],
      "metadata": {
        "colab": {
          "base_uri": "https://localhost:8080/"
        },
        "id": "2nq-dkobpfCI",
        "outputId": "459663fa-094e-46fc-b0d8-0b5d0018c677"
      },
      "execution_count": null,
      "outputs": [
        {
          "output_type": "execute_result",
          "data": {
            "text/plain": [
              "device(type='cuda', index=0)"
            ]
          },
          "metadata": {},
          "execution_count": 86
        }
      ]
    },
    {
      "cell_type": "code",
      "source": [],
      "metadata": {
        "id": "sUEyqNozXd3Z"
      },
      "execution_count": null,
      "outputs": []
    }
  ]
}